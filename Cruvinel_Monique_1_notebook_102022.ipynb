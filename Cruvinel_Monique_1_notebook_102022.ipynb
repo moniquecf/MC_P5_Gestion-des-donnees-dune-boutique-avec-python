{
 "cells": [
  {
   "cell_type": "markdown",
   "id": "3499a12f",
   "metadata": {},
   "source": [
    "# Importation des principales librairies"
   ]
  },
  {
   "cell_type": "code",
   "execution_count": 3,
   "id": "b09c8a59",
   "metadata": {},
   "outputs": [],
   "source": [
    "import numpy as np\n",
    "import pandas as pd\n",
    "import matplotlib.pyplot as plt\n",
    "import seaborn as sns\n",
    "import warnings"
   ]
  },
  {
   "cell_type": "markdown",
   "id": "2e57129f",
   "metadata": {},
   "source": [
    "# Importation des fichiers Excel"
   ]
  },
  {
   "cell_type": "code",
   "execution_count": 4,
   "id": "2e3a83c6",
   "metadata": {},
   "outputs": [
    {
     "data": {
      "text/html": [
       "<div>\n",
       "<style scoped>\n",
       "    .dataframe tbody tr th:only-of-type {\n",
       "        vertical-align: middle;\n",
       "    }\n",
       "\n",
       "    .dataframe tbody tr th {\n",
       "        vertical-align: top;\n",
       "    }\n",
       "\n",
       "    .dataframe thead th {\n",
       "        text-align: right;\n",
       "    }\n",
       "</style>\n",
       "<table border=\"1\" class=\"dataframe\">\n",
       "  <thead>\n",
       "    <tr style=\"text-align: right;\">\n",
       "      <th></th>\n",
       "      <th>product_id</th>\n",
       "      <th>onsale_web</th>\n",
       "      <th>price</th>\n",
       "      <th>stock_quantity</th>\n",
       "      <th>stock_status</th>\n",
       "    </tr>\n",
       "  </thead>\n",
       "  <tbody>\n",
       "    <tr>\n",
       "      <th>0</th>\n",
       "      <td>3847</td>\n",
       "      <td>1</td>\n",
       "      <td>24.2</td>\n",
       "      <td>0</td>\n",
       "      <td>outofstock</td>\n",
       "    </tr>\n",
       "    <tr>\n",
       "      <th>1</th>\n",
       "      <td>3849</td>\n",
       "      <td>1</td>\n",
       "      <td>34.3</td>\n",
       "      <td>0</td>\n",
       "      <td>outofstock</td>\n",
       "    </tr>\n",
       "    <tr>\n",
       "      <th>2</th>\n",
       "      <td>3850</td>\n",
       "      <td>1</td>\n",
       "      <td>20.8</td>\n",
       "      <td>0</td>\n",
       "      <td>outofstock</td>\n",
       "    </tr>\n",
       "    <tr>\n",
       "      <th>3</th>\n",
       "      <td>4032</td>\n",
       "      <td>1</td>\n",
       "      <td>14.1</td>\n",
       "      <td>0</td>\n",
       "      <td>outofstock</td>\n",
       "    </tr>\n",
       "    <tr>\n",
       "      <th>4</th>\n",
       "      <td>4039</td>\n",
       "      <td>1</td>\n",
       "      <td>46.0</td>\n",
       "      <td>0</td>\n",
       "      <td>outofstock</td>\n",
       "    </tr>\n",
       "  </tbody>\n",
       "</table>\n",
       "</div>"
      ],
      "text/plain": [
       "   product_id  onsale_web  price  stock_quantity stock_status\n",
       "0        3847           1   24.2               0   outofstock\n",
       "1        3849           1   34.3               0   outofstock\n",
       "2        3850           1   20.8               0   outofstock\n",
       "3        4032           1   14.1               0   outofstock\n",
       "4        4039           1   46.0               0   outofstock"
      ]
     },
     "execution_count": 4,
     "metadata": {},
     "output_type": "execute_result"
    }
   ],
   "source": [
    "warnings.simplefilter(action='ignore', category=UserWarning)\n",
    "erp = pd.read_excel('erp.xlsx')\n",
    "erp.head()"
   ]
  },
  {
   "cell_type": "code",
   "execution_count": 5,
   "id": "a86f6ec5",
   "metadata": {},
   "outputs": [
    {
     "data": {
      "text/plain": [
       "(825, 5)"
      ]
     },
     "execution_count": 5,
     "metadata": {},
     "output_type": "execute_result"
    }
   ],
   "source": [
    "erp.shape"
   ]
  },
  {
   "cell_type": "code",
   "execution_count": 6,
   "id": "b4bf8613",
   "metadata": {},
   "outputs": [
    {
     "data": {
      "text/html": [
       "<div>\n",
       "<style scoped>\n",
       "    .dataframe tbody tr th:only-of-type {\n",
       "        vertical-align: middle;\n",
       "    }\n",
       "\n",
       "    .dataframe tbody tr th {\n",
       "        vertical-align: top;\n",
       "    }\n",
       "\n",
       "    .dataframe thead th {\n",
       "        text-align: right;\n",
       "    }\n",
       "</style>\n",
       "<table border=\"1\" class=\"dataframe\">\n",
       "  <thead>\n",
       "    <tr style=\"text-align: right;\">\n",
       "      <th></th>\n",
       "      <th>product_id</th>\n",
       "      <th>id_web</th>\n",
       "    </tr>\n",
       "  </thead>\n",
       "  <tbody>\n",
       "    <tr>\n",
       "      <th>0</th>\n",
       "      <td>3847</td>\n",
       "      <td>15298</td>\n",
       "    </tr>\n",
       "    <tr>\n",
       "      <th>1</th>\n",
       "      <td>3849</td>\n",
       "      <td>15296</td>\n",
       "    </tr>\n",
       "    <tr>\n",
       "      <th>2</th>\n",
       "      <td>3850</td>\n",
       "      <td>15300</td>\n",
       "    </tr>\n",
       "    <tr>\n",
       "      <th>3</th>\n",
       "      <td>4032</td>\n",
       "      <td>19814</td>\n",
       "    </tr>\n",
       "    <tr>\n",
       "      <th>4</th>\n",
       "      <td>4039</td>\n",
       "      <td>19815</td>\n",
       "    </tr>\n",
       "  </tbody>\n",
       "</table>\n",
       "</div>"
      ],
      "text/plain": [
       "   product_id id_web\n",
       "0        3847  15298\n",
       "1        3849  15296\n",
       "2        3850  15300\n",
       "3        4032  19814\n",
       "4        4039  19815"
      ]
     },
     "execution_count": 6,
     "metadata": {},
     "output_type": "execute_result"
    }
   ],
   "source": [
    "liaison = pd.read_excel('liaison.xlsx')\n",
    "liaison.head()"
   ]
  },
  {
   "cell_type": "code",
   "execution_count": 7,
   "id": "199357fc",
   "metadata": {},
   "outputs": [
    {
     "data": {
      "text/plain": [
       "(825, 2)"
      ]
     },
     "execution_count": 7,
     "metadata": {},
     "output_type": "execute_result"
    }
   ],
   "source": [
    "liaison.shape"
   ]
  },
  {
   "cell_type": "code",
   "execution_count": 8,
   "id": "52e14669",
   "metadata": {},
   "outputs": [
    {
     "data": {
      "text/html": [
       "<div>\n",
       "<style scoped>\n",
       "    .dataframe tbody tr th:only-of-type {\n",
       "        vertical-align: middle;\n",
       "    }\n",
       "\n",
       "    .dataframe tbody tr th {\n",
       "        vertical-align: top;\n",
       "    }\n",
       "\n",
       "    .dataframe thead th {\n",
       "        text-align: right;\n",
       "    }\n",
       "</style>\n",
       "<table border=\"1\" class=\"dataframe\">\n",
       "  <thead>\n",
       "    <tr style=\"text-align: right;\">\n",
       "      <th></th>\n",
       "      <th>sku</th>\n",
       "      <th>virtual</th>\n",
       "      <th>downloadable</th>\n",
       "      <th>rating_count</th>\n",
       "      <th>average_rating</th>\n",
       "      <th>total_sales</th>\n",
       "      <th>tax_status</th>\n",
       "      <th>tax_class</th>\n",
       "      <th>post_author</th>\n",
       "      <th>post_date</th>\n",
       "      <th>...</th>\n",
       "      <th>post_name</th>\n",
       "      <th>post_modified</th>\n",
       "      <th>post_modified_gmt</th>\n",
       "      <th>post_content_filtered</th>\n",
       "      <th>post_parent</th>\n",
       "      <th>guid</th>\n",
       "      <th>menu_order</th>\n",
       "      <th>post_type</th>\n",
       "      <th>post_mime_type</th>\n",
       "      <th>comment_count</th>\n",
       "    </tr>\n",
       "  </thead>\n",
       "  <tbody>\n",
       "    <tr>\n",
       "      <th>0</th>\n",
       "      <td>bon-cadeau-25-euros</td>\n",
       "      <td>0</td>\n",
       "      <td>0</td>\n",
       "      <td>0</td>\n",
       "      <td>0.0</td>\n",
       "      <td>10.0</td>\n",
       "      <td>taxable</td>\n",
       "      <td>NaN</td>\n",
       "      <td>1.0</td>\n",
       "      <td>2018-06-01 13:53:46</td>\n",
       "      <td>...</td>\n",
       "      <td>bon-cadeau-de-25-euros</td>\n",
       "      <td>2018-06-01 14:13:57</td>\n",
       "      <td>2018-06-01 12:13:57</td>\n",
       "      <td>NaN</td>\n",
       "      <td>0.0</td>\n",
       "      <td>https://www.bottle-neck.fr/?post_type=product&amp;...</td>\n",
       "      <td>0.0</td>\n",
       "      <td>product</td>\n",
       "      <td>NaN</td>\n",
       "      <td>0.0</td>\n",
       "    </tr>\n",
       "    <tr>\n",
       "      <th>1</th>\n",
       "      <td>15298</td>\n",
       "      <td>0</td>\n",
       "      <td>0</td>\n",
       "      <td>0</td>\n",
       "      <td>0.0</td>\n",
       "      <td>6.0</td>\n",
       "      <td>taxable</td>\n",
       "      <td>NaN</td>\n",
       "      <td>2.0</td>\n",
       "      <td>2018-02-08 12:58:52</td>\n",
       "      <td>...</td>\n",
       "      <td>pierre-jean-villa-saint-joseph-preface-2018</td>\n",
       "      <td>2019-12-30 09:30:29</td>\n",
       "      <td>2019-12-30 08:30:29</td>\n",
       "      <td>NaN</td>\n",
       "      <td>0.0</td>\n",
       "      <td>https://www.bottle-neck.fr/?post_type=product&amp;...</td>\n",
       "      <td>0.0</td>\n",
       "      <td>product</td>\n",
       "      <td>NaN</td>\n",
       "      <td>0.0</td>\n",
       "    </tr>\n",
       "    <tr>\n",
       "      <th>2</th>\n",
       "      <td>15296</td>\n",
       "      <td>0</td>\n",
       "      <td>0</td>\n",
       "      <td>0</td>\n",
       "      <td>0.0</td>\n",
       "      <td>0.0</td>\n",
       "      <td>taxable</td>\n",
       "      <td>NaN</td>\n",
       "      <td>2.0</td>\n",
       "      <td>2018-02-08 13:49:41</td>\n",
       "      <td>...</td>\n",
       "      <td>pierre-jean-villa-saint-joseph-tilde-2017</td>\n",
       "      <td>2019-12-21 09:00:17</td>\n",
       "      <td>2019-12-21 08:00:17</td>\n",
       "      <td>NaN</td>\n",
       "      <td>0.0</td>\n",
       "      <td>https://www.bottle-neck.fr/?post_type=product&amp;...</td>\n",
       "      <td>0.0</td>\n",
       "      <td>product</td>\n",
       "      <td>NaN</td>\n",
       "      <td>0.0</td>\n",
       "    </tr>\n",
       "    <tr>\n",
       "      <th>3</th>\n",
       "      <td>15300</td>\n",
       "      <td>0</td>\n",
       "      <td>0</td>\n",
       "      <td>0</td>\n",
       "      <td>0.0</td>\n",
       "      <td>0.0</td>\n",
       "      <td>taxable</td>\n",
       "      <td>NaN</td>\n",
       "      <td>2.0</td>\n",
       "      <td>2018-02-08 14:08:36</td>\n",
       "      <td>...</td>\n",
       "      <td>pierre-jean-villa-croze-hermitage-accroche-coe...</td>\n",
       "      <td>2020-06-26 18:15:03</td>\n",
       "      <td>2020-06-26 16:15:03</td>\n",
       "      <td>NaN</td>\n",
       "      <td>0.0</td>\n",
       "      <td>https://www.bottle-neck.fr/?post_type=product&amp;...</td>\n",
       "      <td>0.0</td>\n",
       "      <td>product</td>\n",
       "      <td>NaN</td>\n",
       "      <td>0.0</td>\n",
       "    </tr>\n",
       "    <tr>\n",
       "      <th>4</th>\n",
       "      <td>19814</td>\n",
       "      <td>0</td>\n",
       "      <td>0</td>\n",
       "      <td>0</td>\n",
       "      <td>0.0</td>\n",
       "      <td>3.0</td>\n",
       "      <td>taxable</td>\n",
       "      <td>NaN</td>\n",
       "      <td>2.0</td>\n",
       "      <td>2018-02-09 14:01:05</td>\n",
       "      <td>...</td>\n",
       "      <td>pierre-jean-villa-igp-gamine-2018</td>\n",
       "      <td>2020-01-04 16:36:01</td>\n",
       "      <td>2020-01-04 15:36:01</td>\n",
       "      <td>NaN</td>\n",
       "      <td>0.0</td>\n",
       "      <td>https://www.bottle-neck.fr/?post_type=product&amp;...</td>\n",
       "      <td>0.0</td>\n",
       "      <td>product</td>\n",
       "      <td>NaN</td>\n",
       "      <td>0.0</td>\n",
       "    </tr>\n",
       "  </tbody>\n",
       "</table>\n",
       "<p>5 rows × 28 columns</p>\n",
       "</div>"
      ],
      "text/plain": [
       "                   sku  virtual  downloadable  rating_count  average_rating  \\\n",
       "0  bon-cadeau-25-euros        0             0             0             0.0   \n",
       "1                15298        0             0             0             0.0   \n",
       "2                15296        0             0             0             0.0   \n",
       "3                15300        0             0             0             0.0   \n",
       "4                19814        0             0             0             0.0   \n",
       "\n",
       "   total_sales tax_status  tax_class  post_author           post_date  ...  \\\n",
       "0         10.0    taxable        NaN          1.0 2018-06-01 13:53:46  ...   \n",
       "1          6.0    taxable        NaN          2.0 2018-02-08 12:58:52  ...   \n",
       "2          0.0    taxable        NaN          2.0 2018-02-08 13:49:41  ...   \n",
       "3          0.0    taxable        NaN          2.0 2018-02-08 14:08:36  ...   \n",
       "4          3.0    taxable        NaN          2.0 2018-02-09 14:01:05  ...   \n",
       "\n",
       "                                           post_name       post_modified  \\\n",
       "0                             bon-cadeau-de-25-euros 2018-06-01 14:13:57   \n",
       "1        pierre-jean-villa-saint-joseph-preface-2018 2019-12-30 09:30:29   \n",
       "2          pierre-jean-villa-saint-joseph-tilde-2017 2019-12-21 09:00:17   \n",
       "3  pierre-jean-villa-croze-hermitage-accroche-coe... 2020-06-26 18:15:03   \n",
       "4                  pierre-jean-villa-igp-gamine-2018 2020-01-04 16:36:01   \n",
       "\n",
       "    post_modified_gmt post_content_filtered post_parent  \\\n",
       "0 2018-06-01 12:13:57                   NaN         0.0   \n",
       "1 2019-12-30 08:30:29                   NaN         0.0   \n",
       "2 2019-12-21 08:00:17                   NaN         0.0   \n",
       "3 2020-06-26 16:15:03                   NaN         0.0   \n",
       "4 2020-01-04 15:36:01                   NaN         0.0   \n",
       "\n",
       "                                                guid menu_order  post_type  \\\n",
       "0  https://www.bottle-neck.fr/?post_type=product&...        0.0    product   \n",
       "1  https://www.bottle-neck.fr/?post_type=product&...        0.0    product   \n",
       "2  https://www.bottle-neck.fr/?post_type=product&...        0.0    product   \n",
       "3  https://www.bottle-neck.fr/?post_type=product&...        0.0    product   \n",
       "4  https://www.bottle-neck.fr/?post_type=product&...        0.0    product   \n",
       "\n",
       "  post_mime_type comment_count  \n",
       "0            NaN           0.0  \n",
       "1            NaN           0.0  \n",
       "2            NaN           0.0  \n",
       "3            NaN           0.0  \n",
       "4            NaN           0.0  \n",
       "\n",
       "[5 rows x 28 columns]"
      ]
     },
     "execution_count": 8,
     "metadata": {},
     "output_type": "execute_result"
    }
   ],
   "source": [
    "web = pd.read_excel('web.xlsx')\n",
    "web.head()"
   ]
  },
  {
   "cell_type": "code",
   "execution_count": 9,
   "id": "f64e5508",
   "metadata": {},
   "outputs": [
    {
     "data": {
      "text/plain": [
       "(1513, 28)"
      ]
     },
     "execution_count": 9,
     "metadata": {},
     "output_type": "execute_result"
    }
   ],
   "source": [
    "web.shape"
   ]
  },
  {
   "cell_type": "markdown",
   "id": "2c6bdad8",
   "metadata": {},
   "source": [
    "On renomme la colonne 'id_web' sur la table Liaison, car Sylvie s'est trompée et au fait elle correspond à la colonne 'SKU' de la table Web :"
   ]
  },
  {
   "cell_type": "code",
   "execution_count": 10,
   "id": "73517f79",
   "metadata": {},
   "outputs": [
    {
     "data": {
      "text/html": [
       "<div>\n",
       "<style scoped>\n",
       "    .dataframe tbody tr th:only-of-type {\n",
       "        vertical-align: middle;\n",
       "    }\n",
       "\n",
       "    .dataframe tbody tr th {\n",
       "        vertical-align: top;\n",
       "    }\n",
       "\n",
       "    .dataframe thead th {\n",
       "        text-align: right;\n",
       "    }\n",
       "</style>\n",
       "<table border=\"1\" class=\"dataframe\">\n",
       "  <thead>\n",
       "    <tr style=\"text-align: right;\">\n",
       "      <th></th>\n",
       "      <th>product_id</th>\n",
       "      <th>sku</th>\n",
       "    </tr>\n",
       "  </thead>\n",
       "  <tbody>\n",
       "    <tr>\n",
       "      <th>0</th>\n",
       "      <td>3847</td>\n",
       "      <td>15298</td>\n",
       "    </tr>\n",
       "    <tr>\n",
       "      <th>1</th>\n",
       "      <td>3849</td>\n",
       "      <td>15296</td>\n",
       "    </tr>\n",
       "    <tr>\n",
       "      <th>2</th>\n",
       "      <td>3850</td>\n",
       "      <td>15300</td>\n",
       "    </tr>\n",
       "    <tr>\n",
       "      <th>3</th>\n",
       "      <td>4032</td>\n",
       "      <td>19814</td>\n",
       "    </tr>\n",
       "    <tr>\n",
       "      <th>4</th>\n",
       "      <td>4039</td>\n",
       "      <td>19815</td>\n",
       "    </tr>\n",
       "  </tbody>\n",
       "</table>\n",
       "</div>"
      ],
      "text/plain": [
       "   product_id    sku\n",
       "0        3847  15298\n",
       "1        3849  15296\n",
       "2        3850  15300\n",
       "3        4032  19814\n",
       "4        4039  19815"
      ]
     },
     "execution_count": 10,
     "metadata": {},
     "output_type": "execute_result"
    }
   ],
   "source": [
    "liaison.rename(columns = {'id_web' : 'sku'}, inplace = True)\n",
    "liaison.head()"
   ]
  },
  {
   "cell_type": "markdown",
   "id": "6c73f5cf",
   "metadata": {},
   "source": [
    "# Nettoyage du jeu de données"
   ]
  },
  {
   "cell_type": "markdown",
   "id": "9be7a636",
   "metadata": {},
   "source": [
    "### 1. Erreurs de type"
   ]
  },
  {
   "cell_type": "code",
   "execution_count": 11,
   "id": "b2f31a9a",
   "metadata": {},
   "outputs": [
    {
     "data": {
      "text/plain": [
       "product_id     int64\n",
       "sku           object\n",
       "dtype: object"
      ]
     },
     "execution_count": 11,
     "metadata": {},
     "output_type": "execute_result"
    }
   ],
   "source": [
    "liaison.dtypes"
   ]
  },
  {
   "cell_type": "code",
   "execution_count": 12,
   "id": "7638254f",
   "metadata": {},
   "outputs": [
    {
     "data": {
      "text/plain": [
       "sku                              object\n",
       "virtual                           int64\n",
       "downloadable                      int64\n",
       "rating_count                      int64\n",
       "average_rating                  float64\n",
       "total_sales                     float64\n",
       "tax_status                       object\n",
       "tax_class                       float64\n",
       "post_author                     float64\n",
       "post_date                datetime64[ns]\n",
       "post_date_gmt            datetime64[ns]\n",
       "post_content                    float64\n",
       "post_title                       object\n",
       "post_excerpt                     object\n",
       "post_status                      object\n",
       "comment_status                   object\n",
       "ping_status                      object\n",
       "post_password                   float64\n",
       "post_name                        object\n",
       "post_modified            datetime64[ns]\n",
       "post_modified_gmt        datetime64[ns]\n",
       "post_content_filtered           float64\n",
       "post_parent                     float64\n",
       "guid                             object\n",
       "menu_order                      float64\n",
       "post_type                        object\n",
       "post_mime_type                   object\n",
       "comment_count                   float64\n",
       "dtype: object"
      ]
     },
     "execution_count": 12,
     "metadata": {},
     "output_type": "execute_result"
    }
   ],
   "source": [
    "web.dtypes"
   ]
  },
  {
   "cell_type": "code",
   "execution_count": 13,
   "id": "eccb1b9c",
   "metadata": {},
   "outputs": [
    {
     "data": {
      "text/plain": [
       "product_id          int64\n",
       "onsale_web          int64\n",
       "price             float64\n",
       "stock_quantity      int64\n",
       "stock_status       object\n",
       "dtype: object"
      ]
     },
     "execution_count": 13,
     "metadata": {},
     "output_type": "execute_result"
    }
   ],
   "source": [
    "erp.dtypes"
   ]
  },
  {
   "cell_type": "markdown",
   "id": "4445f368",
   "metadata": {},
   "source": [
    "On doit changer le type des colonnes 'sku' par numérique.\n",
    "On trouvera trois données qui sont du type objet sur ces colonnes, donc on ira changer ces réferences pour les considérer comme numérique :\n",
    "\n",
    "- Référence \"bon-cadeau-25-euros\" = 37 (référence la plus petite -1)\n",
    "- Référence \"13127-1\" = 131271\n",
    "- Référence \"14680-1\" = 146801"
   ]
  },
  {
   "cell_type": "code",
   "execution_count": 14,
   "id": "ae7bc8df",
   "metadata": {},
   "outputs": [],
   "source": [
    "web.loc[web['sku'] == 'bon-cadeau-25-euros', 'sku'] = 37\n",
    "liaison.loc[liaison['sku'] == 'bon-cadeau-25-euros', 'sku'] = 37\n",
    "\n",
    "web.loc[web['sku'] == '13127-1', 'sku'] = 131271\n",
    "liaison.loc[liaison['sku'] == '13127-1', 'sku'] = 131271\n",
    "\n",
    "web.loc[web['sku'] == '14680-1', 'sku'] = 146801\n",
    "liaison.loc[liaison['sku'] == '14680-1', 'sku'] = 146801"
   ]
  },
  {
   "cell_type": "markdown",
   "id": "7ac7c0b0",
   "metadata": {},
   "source": [
    "Finalement, on fait la conversion des colonnes 'sku' des tables Web et Liaison :"
   ]
  },
  {
   "cell_type": "code",
   "execution_count": 15,
   "id": "39a4fc5d",
   "metadata": {},
   "outputs": [],
   "source": [
    "web['sku'] = pd.to_numeric(web['sku'])\n",
    "liaison['sku'] = pd.to_numeric(liaison['sku'])"
   ]
  },
  {
   "cell_type": "markdown",
   "id": "3db74d84",
   "metadata": {},
   "source": [
    "### 2. Valeurs manquantes"
   ]
  },
  {
   "cell_type": "code",
   "execution_count": 16,
   "id": "42de8c7f",
   "metadata": {},
   "outputs": [
    {
     "data": {
      "text/plain": [
       "product_id        0\n",
       "onsale_web        0\n",
       "price             0\n",
       "stock_quantity    0\n",
       "stock_status      0\n",
       "dtype: int64"
      ]
     },
     "execution_count": 16,
     "metadata": {},
     "output_type": "execute_result"
    }
   ],
   "source": [
    "erp.isnull().sum()"
   ]
  },
  {
   "cell_type": "code",
   "execution_count": 17,
   "id": "104717c5",
   "metadata": {},
   "outputs": [
    {
     "data": {
      "text/plain": [
       "sku                        85\n",
       "virtual                     0\n",
       "downloadable                0\n",
       "rating_count                0\n",
       "average_rating             83\n",
       "total_sales                83\n",
       "tax_status                797\n",
       "tax_class                1513\n",
       "post_author                83\n",
       "post_date                  83\n",
       "post_date_gmt              83\n",
       "post_content             1513\n",
       "post_title                 83\n",
       "post_excerpt              797\n",
       "post_status                83\n",
       "comment_status             83\n",
       "ping_status                83\n",
       "post_password            1513\n",
       "post_name                  83\n",
       "post_modified              83\n",
       "post_modified_gmt          83\n",
       "post_content_filtered    1513\n",
       "post_parent                83\n",
       "guid                       83\n",
       "menu_order                 83\n",
       "post_type                  83\n",
       "post_mime_type            799\n",
       "comment_count              83\n",
       "dtype: int64"
      ]
     },
     "execution_count": 17,
     "metadata": {},
     "output_type": "execute_result"
    }
   ],
   "source": [
    "web.isnull().sum()"
   ]
  },
  {
   "cell_type": "markdown",
   "id": "12fabcc2",
   "metadata": {},
   "source": [
    "On voit que aucune information ne manque sur la table ERP, alors que nous avons beacoup d'informations manquantes sur la table Web. Regardons plus en détails les données pour lesquelles 'SKU' est manquant :"
   ]
  },
  {
   "cell_type": "code",
   "execution_count": 18,
   "id": "081b2176",
   "metadata": {},
   "outputs": [
    {
     "data": {
      "text/html": [
       "<div>\n",
       "<style scoped>\n",
       "    .dataframe tbody tr th:only-of-type {\n",
       "        vertical-align: middle;\n",
       "    }\n",
       "\n",
       "    .dataframe tbody tr th {\n",
       "        vertical-align: top;\n",
       "    }\n",
       "\n",
       "    .dataframe thead th {\n",
       "        text-align: right;\n",
       "    }\n",
       "</style>\n",
       "<table border=\"1\" class=\"dataframe\">\n",
       "  <thead>\n",
       "    <tr style=\"text-align: right;\">\n",
       "      <th></th>\n",
       "      <th>sku</th>\n",
       "      <th>virtual</th>\n",
       "      <th>downloadable</th>\n",
       "      <th>rating_count</th>\n",
       "      <th>average_rating</th>\n",
       "      <th>total_sales</th>\n",
       "      <th>tax_status</th>\n",
       "      <th>tax_class</th>\n",
       "      <th>post_author</th>\n",
       "      <th>post_date</th>\n",
       "      <th>...</th>\n",
       "      <th>post_name</th>\n",
       "      <th>post_modified</th>\n",
       "      <th>post_modified_gmt</th>\n",
       "      <th>post_content_filtered</th>\n",
       "      <th>post_parent</th>\n",
       "      <th>guid</th>\n",
       "      <th>menu_order</th>\n",
       "      <th>post_type</th>\n",
       "      <th>post_mime_type</th>\n",
       "      <th>comment_count</th>\n",
       "    </tr>\n",
       "  </thead>\n",
       "  <tbody>\n",
       "    <tr>\n",
       "      <th>178</th>\n",
       "      <td>NaN</td>\n",
       "      <td>0</td>\n",
       "      <td>0</td>\n",
       "      <td>0</td>\n",
       "      <td>NaN</td>\n",
       "      <td>NaN</td>\n",
       "      <td>NaN</td>\n",
       "      <td>NaN</td>\n",
       "      <td>NaN</td>\n",
       "      <td>NaT</td>\n",
       "      <td>...</td>\n",
       "      <td>NaN</td>\n",
       "      <td>NaT</td>\n",
       "      <td>NaT</td>\n",
       "      <td>NaN</td>\n",
       "      <td>NaN</td>\n",
       "      <td>NaN</td>\n",
       "      <td>NaN</td>\n",
       "      <td>NaN</td>\n",
       "      <td>NaN</td>\n",
       "      <td>NaN</td>\n",
       "    </tr>\n",
       "    <tr>\n",
       "      <th>179</th>\n",
       "      <td>NaN</td>\n",
       "      <td>0</td>\n",
       "      <td>0</td>\n",
       "      <td>0</td>\n",
       "      <td>NaN</td>\n",
       "      <td>NaN</td>\n",
       "      <td>NaN</td>\n",
       "      <td>NaN</td>\n",
       "      <td>NaN</td>\n",
       "      <td>NaT</td>\n",
       "      <td>...</td>\n",
       "      <td>NaN</td>\n",
       "      <td>NaT</td>\n",
       "      <td>NaT</td>\n",
       "      <td>NaN</td>\n",
       "      <td>NaN</td>\n",
       "      <td>NaN</td>\n",
       "      <td>NaN</td>\n",
       "      <td>NaN</td>\n",
       "      <td>NaN</td>\n",
       "      <td>NaN</td>\n",
       "    </tr>\n",
       "    <tr>\n",
       "      <th>227</th>\n",
       "      <td>NaN</td>\n",
       "      <td>0</td>\n",
       "      <td>0</td>\n",
       "      <td>0</td>\n",
       "      <td>NaN</td>\n",
       "      <td>NaN</td>\n",
       "      <td>NaN</td>\n",
       "      <td>NaN</td>\n",
       "      <td>NaN</td>\n",
       "      <td>NaT</td>\n",
       "      <td>...</td>\n",
       "      <td>NaN</td>\n",
       "      <td>NaT</td>\n",
       "      <td>NaT</td>\n",
       "      <td>NaN</td>\n",
       "      <td>NaN</td>\n",
       "      <td>NaN</td>\n",
       "      <td>NaN</td>\n",
       "      <td>NaN</td>\n",
       "      <td>NaN</td>\n",
       "      <td>NaN</td>\n",
       "    </tr>\n",
       "    <tr>\n",
       "      <th>230</th>\n",
       "      <td>NaN</td>\n",
       "      <td>0</td>\n",
       "      <td>0</td>\n",
       "      <td>0</td>\n",
       "      <td>NaN</td>\n",
       "      <td>NaN</td>\n",
       "      <td>NaN</td>\n",
       "      <td>NaN</td>\n",
       "      <td>NaN</td>\n",
       "      <td>NaT</td>\n",
       "      <td>...</td>\n",
       "      <td>NaN</td>\n",
       "      <td>NaT</td>\n",
       "      <td>NaT</td>\n",
       "      <td>NaN</td>\n",
       "      <td>NaN</td>\n",
       "      <td>NaN</td>\n",
       "      <td>NaN</td>\n",
       "      <td>NaN</td>\n",
       "      <td>NaN</td>\n",
       "      <td>NaN</td>\n",
       "    </tr>\n",
       "    <tr>\n",
       "      <th>231</th>\n",
       "      <td>NaN</td>\n",
       "      <td>0</td>\n",
       "      <td>0</td>\n",
       "      <td>0</td>\n",
       "      <td>NaN</td>\n",
       "      <td>NaN</td>\n",
       "      <td>NaN</td>\n",
       "      <td>NaN</td>\n",
       "      <td>NaN</td>\n",
       "      <td>NaT</td>\n",
       "      <td>...</td>\n",
       "      <td>NaN</td>\n",
       "      <td>NaT</td>\n",
       "      <td>NaT</td>\n",
       "      <td>NaN</td>\n",
       "      <td>NaN</td>\n",
       "      <td>NaN</td>\n",
       "      <td>NaN</td>\n",
       "      <td>NaN</td>\n",
       "      <td>NaN</td>\n",
       "      <td>NaN</td>\n",
       "    </tr>\n",
       "  </tbody>\n",
       "</table>\n",
       "<p>5 rows × 28 columns</p>\n",
       "</div>"
      ],
      "text/plain": [
       "     sku  virtual  downloadable  rating_count  average_rating  total_sales  \\\n",
       "178  NaN        0             0             0             NaN          NaN   \n",
       "179  NaN        0             0             0             NaN          NaN   \n",
       "227  NaN        0             0             0             NaN          NaN   \n",
       "230  NaN        0             0             0             NaN          NaN   \n",
       "231  NaN        0             0             0             NaN          NaN   \n",
       "\n",
       "    tax_status  tax_class  post_author post_date  ... post_name  \\\n",
       "178        NaN        NaN          NaN       NaT  ...       NaN   \n",
       "179        NaN        NaN          NaN       NaT  ...       NaN   \n",
       "227        NaN        NaN          NaN       NaT  ...       NaN   \n",
       "230        NaN        NaN          NaN       NaT  ...       NaN   \n",
       "231        NaN        NaN          NaN       NaT  ...       NaN   \n",
       "\n",
       "     post_modified post_modified_gmt post_content_filtered post_parent guid  \\\n",
       "178            NaT               NaT                   NaN         NaN  NaN   \n",
       "179            NaT               NaT                   NaN         NaN  NaN   \n",
       "227            NaT               NaT                   NaN         NaN  NaN   \n",
       "230            NaT               NaT                   NaN         NaN  NaN   \n",
       "231            NaT               NaT                   NaN         NaN  NaN   \n",
       "\n",
       "    menu_order  post_type post_mime_type comment_count  \n",
       "178        NaN        NaN            NaN           NaN  \n",
       "179        NaN        NaN            NaN           NaN  \n",
       "227        NaN        NaN            NaN           NaN  \n",
       "230        NaN        NaN            NaN           NaN  \n",
       "231        NaN        NaN            NaN           NaN  \n",
       "\n",
       "[5 rows x 28 columns]"
      ]
     },
     "execution_count": 18,
     "metadata": {},
     "output_type": "execute_result"
    }
   ],
   "source": [
    "sku_null = web.loc[web['sku'].isnull(), :]\n",
    "sku_null.head()"
   ]
  },
  {
   "cell_type": "markdown",
   "id": "665f189f",
   "metadata": {},
   "source": [
    "Il semble que nous n'avons que des lignes vides où 'sku' est manquant. Regardons si c'est bien le cas :"
   ]
  },
  {
   "cell_type": "code",
   "execution_count": 19,
   "id": "ea54c6c8",
   "metadata": {},
   "outputs": [
    {
     "data": {
      "text/plain": [
       "sku                      85\n",
       "virtual                  85\n",
       "downloadable             85\n",
       "rating_count             85\n",
       "average_rating           85\n",
       "total_sales              85\n",
       "tax_status               83\n",
       "tax_class                85\n",
       "post_author              83\n",
       "post_date                83\n",
       "post_date_gmt            83\n",
       "post_content             85\n",
       "post_title               83\n",
       "post_excerpt             83\n",
       "post_status              83\n",
       "comment_status           83\n",
       "ping_status              83\n",
       "post_password            85\n",
       "post_name                83\n",
       "post_modified            83\n",
       "post_modified_gmt        83\n",
       "post_content_filtered    85\n",
       "post_parent              85\n",
       "guid                     83\n",
       "menu_order               85\n",
       "post_type                83\n",
       "post_mime_type           85\n",
       "comment_count            85\n",
       "dtype: int64"
      ]
     },
     "execution_count": 19,
     "metadata": {},
     "output_type": "execute_result"
    }
   ],
   "source": [
    "sku_n1 = sku_null.replace(0, np.nan).copy()\n",
    "sku_n1.isnull().sum()"
   ]
  },
  {
   "cell_type": "markdown",
   "id": "893b497b",
   "metadata": {},
   "source": [
    "Nous avons au fait deux lignes avec le titre du produit, le 'tax_status', 'post_author','post_date', 'post_modified', 'post_modified_gmt', 'guid' et 'post_type' qui n'ont pas de référence produit :"
   ]
  },
  {
   "cell_type": "code",
   "execution_count": 20,
   "id": "475ff4c7",
   "metadata": {},
   "outputs": [
    {
     "data": {
      "text/html": [
       "<div>\n",
       "<style scoped>\n",
       "    .dataframe tbody tr th:only-of-type {\n",
       "        vertical-align: middle;\n",
       "    }\n",
       "\n",
       "    .dataframe tbody tr th {\n",
       "        vertical-align: top;\n",
       "    }\n",
       "\n",
       "    .dataframe thead th {\n",
       "        text-align: right;\n",
       "    }\n",
       "</style>\n",
       "<table border=\"1\" class=\"dataframe\">\n",
       "  <thead>\n",
       "    <tr style=\"text-align: right;\">\n",
       "      <th></th>\n",
       "      <th>sku</th>\n",
       "      <th>virtual</th>\n",
       "      <th>downloadable</th>\n",
       "      <th>rating_count</th>\n",
       "      <th>average_rating</th>\n",
       "      <th>total_sales</th>\n",
       "      <th>tax_status</th>\n",
       "      <th>tax_class</th>\n",
       "      <th>post_author</th>\n",
       "      <th>post_date</th>\n",
       "      <th>...</th>\n",
       "      <th>post_name</th>\n",
       "      <th>post_modified</th>\n",
       "      <th>post_modified_gmt</th>\n",
       "      <th>post_content_filtered</th>\n",
       "      <th>post_parent</th>\n",
       "      <th>guid</th>\n",
       "      <th>menu_order</th>\n",
       "      <th>post_type</th>\n",
       "      <th>post_mime_type</th>\n",
       "      <th>comment_count</th>\n",
       "    </tr>\n",
       "  </thead>\n",
       "  <tbody>\n",
       "    <tr>\n",
       "      <th>470</th>\n",
       "      <td>NaN</td>\n",
       "      <td>NaN</td>\n",
       "      <td>NaN</td>\n",
       "      <td>NaN</td>\n",
       "      <td>NaN</td>\n",
       "      <td>NaN</td>\n",
       "      <td>taxable</td>\n",
       "      <td>NaN</td>\n",
       "      <td>2.0</td>\n",
       "      <td>2018-07-31 12:07:23</td>\n",
       "      <td>...</td>\n",
       "      <td>pierre-jean-villa-cote-rotie-fongeant-2017</td>\n",
       "      <td>2019-11-02 13:24:15</td>\n",
       "      <td>2019-11-02 12:24:15</td>\n",
       "      <td>NaN</td>\n",
       "      <td>NaN</td>\n",
       "      <td>https://www.bottle-neck.fr/?post_type=product&amp;...</td>\n",
       "      <td>NaN</td>\n",
       "      <td>product</td>\n",
       "      <td>NaN</td>\n",
       "      <td>NaN</td>\n",
       "    </tr>\n",
       "    <tr>\n",
       "      <th>471</th>\n",
       "      <td>NaN</td>\n",
       "      <td>NaN</td>\n",
       "      <td>NaN</td>\n",
       "      <td>NaN</td>\n",
       "      <td>NaN</td>\n",
       "      <td>NaN</td>\n",
       "      <td>taxable</td>\n",
       "      <td>NaN</td>\n",
       "      <td>2.0</td>\n",
       "      <td>2018-08-08 11:23:43</td>\n",
       "      <td>...</td>\n",
       "      <td>pierre-jean-villa-condrieu-suspendu-2018</td>\n",
       "      <td>2019-11-02 13:24:01</td>\n",
       "      <td>2019-11-02 12:24:01</td>\n",
       "      <td>NaN</td>\n",
       "      <td>NaN</td>\n",
       "      <td>https://www.bottle-neck.fr/?post_type=product&amp;...</td>\n",
       "      <td>NaN</td>\n",
       "      <td>product</td>\n",
       "      <td>NaN</td>\n",
       "      <td>NaN</td>\n",
       "    </tr>\n",
       "  </tbody>\n",
       "</table>\n",
       "<p>2 rows × 28 columns</p>\n",
       "</div>"
      ],
      "text/plain": [
       "     sku  virtual  downloadable  rating_count  average_rating  total_sales  \\\n",
       "470  NaN      NaN           NaN           NaN             NaN          NaN   \n",
       "471  NaN      NaN           NaN           NaN             NaN          NaN   \n",
       "\n",
       "    tax_status  tax_class  post_author           post_date  ...  \\\n",
       "470    taxable        NaN          2.0 2018-07-31 12:07:23  ...   \n",
       "471    taxable        NaN          2.0 2018-08-08 11:23:43  ...   \n",
       "\n",
       "                                      post_name       post_modified  \\\n",
       "470  pierre-jean-villa-cote-rotie-fongeant-2017 2019-11-02 13:24:15   \n",
       "471    pierre-jean-villa-condrieu-suspendu-2018 2019-11-02 13:24:01   \n",
       "\n",
       "      post_modified_gmt post_content_filtered post_parent  \\\n",
       "470 2019-11-02 12:24:15                   NaN         NaN   \n",
       "471 2019-11-02 12:24:01                   NaN         NaN   \n",
       "\n",
       "                                                  guid menu_order  post_type  \\\n",
       "470  https://www.bottle-neck.fr/?post_type=product&...        NaN    product   \n",
       "471  https://www.bottle-neck.fr/?post_type=product&...        NaN    product   \n",
       "\n",
       "    post_mime_type comment_count  \n",
       "470            NaN           NaN  \n",
       "471            NaN           NaN  \n",
       "\n",
       "[2 rows x 28 columns]"
      ]
     },
     "execution_count": 20,
     "metadata": {},
     "output_type": "execute_result"
    }
   ],
   "source": [
    "sku_n1.loc[~sku_n1['post_title'].isnull(),:]"
   ]
  },
  {
   "cell_type": "markdown",
   "id": "1bf921f3",
   "metadata": {},
   "source": [
    "On essayera de trouver les codes SKU de ces deux produits à travers ces noms :"
   ]
  },
  {
   "cell_type": "code",
   "execution_count": 21,
   "id": "38cf457b",
   "metadata": {},
   "outputs": [
    {
     "data": {
      "text/html": [
       "<div>\n",
       "<style scoped>\n",
       "    .dataframe tbody tr th:only-of-type {\n",
       "        vertical-align: middle;\n",
       "    }\n",
       "\n",
       "    .dataframe tbody tr th {\n",
       "        vertical-align: top;\n",
       "    }\n",
       "\n",
       "    .dataframe thead th {\n",
       "        text-align: right;\n",
       "    }\n",
       "</style>\n",
       "<table border=\"1\" class=\"dataframe\">\n",
       "  <thead>\n",
       "    <tr style=\"text-align: right;\">\n",
       "      <th></th>\n",
       "      <th>sku</th>\n",
       "      <th>virtual</th>\n",
       "      <th>downloadable</th>\n",
       "      <th>rating_count</th>\n",
       "      <th>average_rating</th>\n",
       "      <th>total_sales</th>\n",
       "      <th>tax_status</th>\n",
       "      <th>tax_class</th>\n",
       "      <th>post_author</th>\n",
       "      <th>post_date</th>\n",
       "      <th>...</th>\n",
       "      <th>post_name</th>\n",
       "      <th>post_modified</th>\n",
       "      <th>post_modified_gmt</th>\n",
       "      <th>post_content_filtered</th>\n",
       "      <th>post_parent</th>\n",
       "      <th>guid</th>\n",
       "      <th>menu_order</th>\n",
       "      <th>post_type</th>\n",
       "      <th>post_mime_type</th>\n",
       "      <th>comment_count</th>\n",
       "    </tr>\n",
       "  </thead>\n",
       "  <tbody>\n",
       "    <tr>\n",
       "      <th>470</th>\n",
       "      <td>NaN</td>\n",
       "      <td>0</td>\n",
       "      <td>0</td>\n",
       "      <td>0</td>\n",
       "      <td>0.0</td>\n",
       "      <td>0.0</td>\n",
       "      <td>taxable</td>\n",
       "      <td>NaN</td>\n",
       "      <td>2.0</td>\n",
       "      <td>2018-07-31 12:07:23</td>\n",
       "      <td>...</td>\n",
       "      <td>pierre-jean-villa-cote-rotie-fongeant-2017</td>\n",
       "      <td>2019-11-02 13:24:15</td>\n",
       "      <td>2019-11-02 12:24:15</td>\n",
       "      <td>NaN</td>\n",
       "      <td>0.0</td>\n",
       "      <td>https://www.bottle-neck.fr/?post_type=product&amp;...</td>\n",
       "      <td>0.0</td>\n",
       "      <td>product</td>\n",
       "      <td>NaN</td>\n",
       "      <td>0.0</td>\n",
       "    </tr>\n",
       "  </tbody>\n",
       "</table>\n",
       "<p>1 rows × 28 columns</p>\n",
       "</div>"
      ],
      "text/plain": [
       "     sku  virtual  downloadable  rating_count  average_rating  total_sales  \\\n",
       "470  NaN        0             0             0             0.0          0.0   \n",
       "\n",
       "    tax_status  tax_class  post_author           post_date  ...  \\\n",
       "470    taxable        NaN          2.0 2018-07-31 12:07:23  ...   \n",
       "\n",
       "                                      post_name       post_modified  \\\n",
       "470  pierre-jean-villa-cote-rotie-fongeant-2017 2019-11-02 13:24:15   \n",
       "\n",
       "      post_modified_gmt post_content_filtered post_parent  \\\n",
       "470 2019-11-02 12:24:15                   NaN         0.0   \n",
       "\n",
       "                                                  guid menu_order  post_type  \\\n",
       "470  https://www.bottle-neck.fr/?post_type=product&...        0.0    product   \n",
       "\n",
       "    post_mime_type comment_count  \n",
       "470            NaN           0.0  \n",
       "\n",
       "[1 rows x 28 columns]"
      ]
     },
     "execution_count": 21,
     "metadata": {},
     "output_type": "execute_result"
    }
   ],
   "source": [
    "web.loc[web['post_name'] == 'pierre-jean-villa-cote-rotie-fongeant-2017', :]"
   ]
  },
  {
   "cell_type": "code",
   "execution_count": 22,
   "id": "ba7f26bb",
   "metadata": {},
   "outputs": [
    {
     "data": {
      "text/html": [
       "<div>\n",
       "<style scoped>\n",
       "    .dataframe tbody tr th:only-of-type {\n",
       "        vertical-align: middle;\n",
       "    }\n",
       "\n",
       "    .dataframe tbody tr th {\n",
       "        vertical-align: top;\n",
       "    }\n",
       "\n",
       "    .dataframe thead th {\n",
       "        text-align: right;\n",
       "    }\n",
       "</style>\n",
       "<table border=\"1\" class=\"dataframe\">\n",
       "  <thead>\n",
       "    <tr style=\"text-align: right;\">\n",
       "      <th></th>\n",
       "      <th>sku</th>\n",
       "      <th>virtual</th>\n",
       "      <th>downloadable</th>\n",
       "      <th>rating_count</th>\n",
       "      <th>average_rating</th>\n",
       "      <th>total_sales</th>\n",
       "      <th>tax_status</th>\n",
       "      <th>tax_class</th>\n",
       "      <th>post_author</th>\n",
       "      <th>post_date</th>\n",
       "      <th>...</th>\n",
       "      <th>post_name</th>\n",
       "      <th>post_modified</th>\n",
       "      <th>post_modified_gmt</th>\n",
       "      <th>post_content_filtered</th>\n",
       "      <th>post_parent</th>\n",
       "      <th>guid</th>\n",
       "      <th>menu_order</th>\n",
       "      <th>post_type</th>\n",
       "      <th>post_mime_type</th>\n",
       "      <th>comment_count</th>\n",
       "    </tr>\n",
       "  </thead>\n",
       "  <tbody>\n",
       "    <tr>\n",
       "      <th>471</th>\n",
       "      <td>NaN</td>\n",
       "      <td>0</td>\n",
       "      <td>0</td>\n",
       "      <td>0</td>\n",
       "      <td>0.0</td>\n",
       "      <td>0.0</td>\n",
       "      <td>taxable</td>\n",
       "      <td>NaN</td>\n",
       "      <td>2.0</td>\n",
       "      <td>2018-08-08 11:23:43</td>\n",
       "      <td>...</td>\n",
       "      <td>pierre-jean-villa-condrieu-suspendu-2018</td>\n",
       "      <td>2019-11-02 13:24:01</td>\n",
       "      <td>2019-11-02 12:24:01</td>\n",
       "      <td>NaN</td>\n",
       "      <td>0.0</td>\n",
       "      <td>https://www.bottle-neck.fr/?post_type=product&amp;...</td>\n",
       "      <td>0.0</td>\n",
       "      <td>product</td>\n",
       "      <td>NaN</td>\n",
       "      <td>0.0</td>\n",
       "    </tr>\n",
       "  </tbody>\n",
       "</table>\n",
       "<p>1 rows × 28 columns</p>\n",
       "</div>"
      ],
      "text/plain": [
       "     sku  virtual  downloadable  rating_count  average_rating  total_sales  \\\n",
       "471  NaN        0             0             0             0.0          0.0   \n",
       "\n",
       "    tax_status  tax_class  post_author           post_date  ...  \\\n",
       "471    taxable        NaN          2.0 2018-08-08 11:23:43  ...   \n",
       "\n",
       "                                    post_name       post_modified  \\\n",
       "471  pierre-jean-villa-condrieu-suspendu-2018 2019-11-02 13:24:01   \n",
       "\n",
       "      post_modified_gmt post_content_filtered post_parent  \\\n",
       "471 2019-11-02 12:24:01                   NaN         0.0   \n",
       "\n",
       "                                                  guid menu_order  post_type  \\\n",
       "471  https://www.bottle-neck.fr/?post_type=product&...        0.0    product   \n",
       "\n",
       "    post_mime_type comment_count  \n",
       "471            NaN           0.0  \n",
       "\n",
       "[1 rows x 28 columns]"
      ]
     },
     "execution_count": 22,
     "metadata": {},
     "output_type": "execute_result"
    }
   ],
   "source": [
    "web.loc[web['post_name'] == 'pierre-jean-villa-condrieu-suspendu-2018', :]"
   ]
  },
  {
   "cell_type": "markdown",
   "id": "16478519",
   "metadata": {},
   "source": [
    "Comme il n'y a pas d'autres lignes avec les mêmes noms produits, nous ne pouvons pas trouver leurs références. On ne peut pas savoir si ces produits ont de correspondance dans la table ERP non plus. \n",
    "Comme aucune quantitité de ces deux types de vin n'a été vendue, on va supprimer ces deux lignes, et toutes les autres lignes qui sont vides dans la table Web. "
   ]
  },
  {
   "cell_type": "code",
   "execution_count": 23,
   "id": "1391c114",
   "metadata": {},
   "outputs": [
    {
     "name": "stdout",
     "output_type": "stream",
     "text": [
      "sku                         0\n",
      "virtual                     0\n",
      "downloadable                0\n",
      "rating_count                0\n",
      "average_rating              0\n",
      "total_sales                 0\n",
      "tax_status                714\n",
      "tax_class                1428\n",
      "post_author                 0\n",
      "post_date                   0\n",
      "post_date_gmt               0\n",
      "post_content             1428\n",
      "post_title                  0\n",
      "post_excerpt              714\n",
      "post_status                 0\n",
      "comment_status              0\n",
      "ping_status                 0\n",
      "post_password            1428\n",
      "post_name                   0\n",
      "post_modified               0\n",
      "post_modified_gmt           0\n",
      "post_content_filtered    1428\n",
      "post_parent                 0\n",
      "guid                        0\n",
      "menu_order                  0\n",
      "post_type                   0\n",
      "post_mime_type            714\n",
      "comment_count               0\n",
      "dtype: int64\n",
      "(1428, 28)\n"
     ]
    }
   ],
   "source": [
    "web = web.drop(web.loc[web['sku'].isnull()].index)\n",
    "print(web.isnull().sum())\n",
    "print(web.shape)"
   ]
  },
  {
   "cell_type": "markdown",
   "id": "176442a1",
   "metadata": {},
   "source": [
    "Toutes les cellules des colonnes 'tax_class', 'post_content', 'post_password' et 'post_content_filtered' sont vides. Alors, on les supprime :"
   ]
  },
  {
   "cell_type": "code",
   "execution_count": 24,
   "id": "ababd32f",
   "metadata": {},
   "outputs": [],
   "source": [
    "web.drop(['tax_class', 'post_content', 'post_password', 'post_content_filtered'], axis=1, inplace=True)"
   ]
  },
  {
   "cell_type": "code",
   "execution_count": 25,
   "id": "ebec9516",
   "metadata": {},
   "outputs": [
    {
     "data": {
      "text/plain": [
       "sku                    0\n",
       "virtual                0\n",
       "downloadable           0\n",
       "rating_count           0\n",
       "average_rating         0\n",
       "total_sales            0\n",
       "tax_status           714\n",
       "post_author            0\n",
       "post_date              0\n",
       "post_date_gmt          0\n",
       "post_title             0\n",
       "post_excerpt         714\n",
       "post_status            0\n",
       "comment_status         0\n",
       "ping_status            0\n",
       "post_name              0\n",
       "post_modified          0\n",
       "post_modified_gmt      0\n",
       "post_parent            0\n",
       "guid                   0\n",
       "menu_order             0\n",
       "post_type              0\n",
       "post_mime_type       714\n",
       "comment_count          0\n",
       "dtype: int64"
      ]
     },
     "execution_count": 25,
     "metadata": {},
     "output_type": "execute_result"
    }
   ],
   "source": [
    "web.isnull().sum()"
   ]
  },
  {
   "cell_type": "markdown",
   "id": "1ce28cf5",
   "metadata": {},
   "source": [
    "Pour la table Liaison :"
   ]
  },
  {
   "cell_type": "code",
   "execution_count": 26,
   "id": "11fa9f14",
   "metadata": {},
   "outputs": [
    {
     "data": {
      "text/plain": [
       "product_id     0\n",
       "sku           91\n",
       "dtype: int64"
      ]
     },
     "execution_count": 26,
     "metadata": {},
     "output_type": "execute_result"
    }
   ],
   "source": [
    "liaison.isnull().sum()"
   ]
  },
  {
   "cell_type": "markdown",
   "id": "5a926ead",
   "metadata": {},
   "source": [
    "Sylvie, l'ancienne stagiaire, a précisé en mail : \"la liste des product_id est exhaustive, mais pour les références côté Web, j’en suis moins sûre... J’ai peiné à rapprocher certaines références.\"\n",
    "Pour cette raison, il y a 91 références SKU qui ne trouvent pas de correspondence 'product_id'."
   ]
  },
  {
   "cell_type": "markdown",
   "id": "d59fabbb",
   "metadata": {},
   "source": [
    "### 3. Doublons"
   ]
  },
  {
   "cell_type": "markdown",
   "id": "7d17d539",
   "metadata": {},
   "source": [
    "Regardons à présent si certains produits sont apparus en doublons.  \n",
    "D'abord, on fait le test d'unicité de la clé primaire de chaque table : "
   ]
  },
  {
   "cell_type": "code",
   "execution_count": 27,
   "id": "b419e67a",
   "metadata": {},
   "outputs": [
    {
     "data": {
      "text/plain": [
       "(False, True)"
      ]
     },
     "execution_count": 27,
     "metadata": {},
     "output_type": "execute_result"
    }
   ],
   "source": [
    "web[\"sku\"].is_unique,erp[\"product_id\"].is_unique"
   ]
  },
  {
   "cell_type": "markdown",
   "id": "f35dc851",
   "metadata": {},
   "source": [
    "On peut voir que chaque CP de la table ERP est unique, ce qui n'est pas vrai pour la table Web.  \n",
    "Ainsi, la table ERP n'a pas de bouteilles qui sont apparus en doublons :"
   ]
  },
  {
   "cell_type": "code",
   "execution_count": 28,
   "id": "e58f8ebc",
   "metadata": {},
   "outputs": [
    {
     "data": {
      "text/html": [
       "<div>\n",
       "<style scoped>\n",
       "    .dataframe tbody tr th:only-of-type {\n",
       "        vertical-align: middle;\n",
       "    }\n",
       "\n",
       "    .dataframe tbody tr th {\n",
       "        vertical-align: top;\n",
       "    }\n",
       "\n",
       "    .dataframe thead th {\n",
       "        text-align: right;\n",
       "    }\n",
       "</style>\n",
       "<table border=\"1\" class=\"dataframe\">\n",
       "  <thead>\n",
       "    <tr style=\"text-align: right;\">\n",
       "      <th></th>\n",
       "      <th>product_id</th>\n",
       "      <th>onsale_web</th>\n",
       "      <th>price</th>\n",
       "      <th>stock_quantity</th>\n",
       "      <th>stock_status</th>\n",
       "    </tr>\n",
       "  </thead>\n",
       "  <tbody>\n",
       "  </tbody>\n",
       "</table>\n",
       "</div>"
      ],
      "text/plain": [
       "Empty DataFrame\n",
       "Columns: [product_id, onsale_web, price, stock_quantity, stock_status]\n",
       "Index: []"
      ]
     },
     "execution_count": 28,
     "metadata": {},
     "output_type": "execute_result"
    }
   ],
   "source": [
    "erp.loc[erp['product_id'].duplicated(keep=False),:]"
   ]
  },
  {
   "cell_type": "markdown",
   "id": "c5a3697f",
   "metadata": {},
   "source": [
    "Regardons les produits en doublons sur la table Web :"
   ]
  },
  {
   "cell_type": "code",
   "execution_count": 29,
   "id": "cf8cf5fa",
   "metadata": {},
   "outputs": [
    {
     "data": {
      "text/html": [
       "<div>\n",
       "<style scoped>\n",
       "    .dataframe tbody tr th:only-of-type {\n",
       "        vertical-align: middle;\n",
       "    }\n",
       "\n",
       "    .dataframe tbody tr th {\n",
       "        vertical-align: top;\n",
       "    }\n",
       "\n",
       "    .dataframe thead th {\n",
       "        text-align: right;\n",
       "    }\n",
       "</style>\n",
       "<table border=\"1\" class=\"dataframe\">\n",
       "  <thead>\n",
       "    <tr style=\"text-align: right;\">\n",
       "      <th></th>\n",
       "      <th>sku</th>\n",
       "      <th>virtual</th>\n",
       "      <th>downloadable</th>\n",
       "      <th>rating_count</th>\n",
       "      <th>average_rating</th>\n",
       "      <th>total_sales</th>\n",
       "      <th>tax_status</th>\n",
       "      <th>post_author</th>\n",
       "      <th>post_date</th>\n",
       "      <th>post_date_gmt</th>\n",
       "      <th>...</th>\n",
       "      <th>ping_status</th>\n",
       "      <th>post_name</th>\n",
       "      <th>post_modified</th>\n",
       "      <th>post_modified_gmt</th>\n",
       "      <th>post_parent</th>\n",
       "      <th>guid</th>\n",
       "      <th>menu_order</th>\n",
       "      <th>post_type</th>\n",
       "      <th>post_mime_type</th>\n",
       "      <th>comment_count</th>\n",
       "    </tr>\n",
       "  </thead>\n",
       "  <tbody>\n",
       "    <tr>\n",
       "      <th>0</th>\n",
       "      <td>37.0</td>\n",
       "      <td>0</td>\n",
       "      <td>0</td>\n",
       "      <td>0</td>\n",
       "      <td>0.0</td>\n",
       "      <td>10.0</td>\n",
       "      <td>taxable</td>\n",
       "      <td>1.0</td>\n",
       "      <td>2018-06-01 13:53:46</td>\n",
       "      <td>2018-06-01 11:53:46</td>\n",
       "      <td>...</td>\n",
       "      <td>closed</td>\n",
       "      <td>bon-cadeau-de-25-euros</td>\n",
       "      <td>2018-06-01 14:13:57</td>\n",
       "      <td>2018-06-01 12:13:57</td>\n",
       "      <td>0.0</td>\n",
       "      <td>https://www.bottle-neck.fr/?post_type=product&amp;...</td>\n",
       "      <td>0.0</td>\n",
       "      <td>product</td>\n",
       "      <td>NaN</td>\n",
       "      <td>0.0</td>\n",
       "    </tr>\n",
       "    <tr>\n",
       "      <th>1209</th>\n",
       "      <td>37.0</td>\n",
       "      <td>0</td>\n",
       "      <td>0</td>\n",
       "      <td>0</td>\n",
       "      <td>0.0</td>\n",
       "      <td>10.0</td>\n",
       "      <td>NaN</td>\n",
       "      <td>1.0</td>\n",
       "      <td>2018-06-01 13:53:46</td>\n",
       "      <td>2018-06-01 11:53:46</td>\n",
       "      <td>...</td>\n",
       "      <td>closed</td>\n",
       "      <td>bon-cadeau-de-25-euros</td>\n",
       "      <td>2018-06-01 14:13:57</td>\n",
       "      <td>2018-06-01 12:13:57</td>\n",
       "      <td>0.0</td>\n",
       "      <td>https://www.bottle-neck.fr/wp-content/uploads/...</td>\n",
       "      <td>0.0</td>\n",
       "      <td>attachment</td>\n",
       "      <td>image/jpeg</td>\n",
       "      <td>0.0</td>\n",
       "    </tr>\n",
       "    <tr>\n",
       "      <th>339</th>\n",
       "      <td>38.0</td>\n",
       "      <td>0</td>\n",
       "      <td>0</td>\n",
       "      <td>0</td>\n",
       "      <td>0.0</td>\n",
       "      <td>38.0</td>\n",
       "      <td>taxable</td>\n",
       "      <td>2.0</td>\n",
       "      <td>2018-04-18 12:25:58</td>\n",
       "      <td>2018-04-18 10:25:58</td>\n",
       "      <td>...</td>\n",
       "      <td>closed</td>\n",
       "      <td>emile-boeckel-cremant-brut-blanc-de-blancs</td>\n",
       "      <td>2020-08-27 17:15:03</td>\n",
       "      <td>2020-08-27 15:15:03</td>\n",
       "      <td>0.0</td>\n",
       "      <td>https://www.bottle-neck.fr/?post_type=product&amp;...</td>\n",
       "      <td>0.0</td>\n",
       "      <td>product</td>\n",
       "      <td>NaN</td>\n",
       "      <td>0.0</td>\n",
       "    </tr>\n",
       "    <tr>\n",
       "      <th>1123</th>\n",
       "      <td>38.0</td>\n",
       "      <td>0</td>\n",
       "      <td>0</td>\n",
       "      <td>0</td>\n",
       "      <td>0.0</td>\n",
       "      <td>38.0</td>\n",
       "      <td>NaN</td>\n",
       "      <td>2.0</td>\n",
       "      <td>2018-04-18 12:25:58</td>\n",
       "      <td>2018-04-18 10:25:58</td>\n",
       "      <td>...</td>\n",
       "      <td>closed</td>\n",
       "      <td>emile-boeckel-cremant-brut-blanc-de-blancs</td>\n",
       "      <td>2020-08-27 17:15:03</td>\n",
       "      <td>2020-08-27 15:15:03</td>\n",
       "      <td>0.0</td>\n",
       "      <td>https://www.bottle-neck.fr/wp-content/uploads/...</td>\n",
       "      <td>0.0</td>\n",
       "      <td>attachment</td>\n",
       "      <td>image/jpeg</td>\n",
       "      <td>0.0</td>\n",
       "    </tr>\n",
       "    <tr>\n",
       "      <th>269</th>\n",
       "      <td>41.0</td>\n",
       "      <td>0</td>\n",
       "      <td>0</td>\n",
       "      <td>0</td>\n",
       "      <td>0.0</td>\n",
       "      <td>0.0</td>\n",
       "      <td>taxable</td>\n",
       "      <td>2.0</td>\n",
       "      <td>2018-04-14 12:01:43</td>\n",
       "      <td>2018-04-14 10:01:43</td>\n",
       "      <td>...</td>\n",
       "      <td>closed</td>\n",
       "      <td>marcel-windholtz-eau-de-marc-de-gewurztraminer</td>\n",
       "      <td>2020-08-03 10:25:02</td>\n",
       "      <td>2020-08-03 08:25:02</td>\n",
       "      <td>0.0</td>\n",
       "      <td>https://www.bottle-neck.fr/?post_type=product&amp;...</td>\n",
       "      <td>0.0</td>\n",
       "      <td>product</td>\n",
       "      <td>NaN</td>\n",
       "      <td>0.0</td>\n",
       "    </tr>\n",
       "    <tr>\n",
       "      <th>...</th>\n",
       "      <td>...</td>\n",
       "      <td>...</td>\n",
       "      <td>...</td>\n",
       "      <td>...</td>\n",
       "      <td>...</td>\n",
       "      <td>...</td>\n",
       "      <td>...</td>\n",
       "      <td>...</td>\n",
       "      <td>...</td>\n",
       "      <td>...</td>\n",
       "      <td>...</td>\n",
       "      <td>...</td>\n",
       "      <td>...</td>\n",
       "      <td>...</td>\n",
       "      <td>...</td>\n",
       "      <td>...</td>\n",
       "      <td>...</td>\n",
       "      <td>...</td>\n",
       "      <td>...</td>\n",
       "      <td>...</td>\n",
       "      <td>...</td>\n",
       "    </tr>\n",
       "    <tr>\n",
       "      <th>525</th>\n",
       "      <td>19821.0</td>\n",
       "      <td>0</td>\n",
       "      <td>0</td>\n",
       "      <td>0</td>\n",
       "      <td>0.0</td>\n",
       "      <td>0.0</td>\n",
       "      <td>taxable</td>\n",
       "      <td>2.0</td>\n",
       "      <td>2018-11-26 10:56:30</td>\n",
       "      <td>2018-11-26 09:56:30</td>\n",
       "      <td>...</td>\n",
       "      <td>closed</td>\n",
       "      <td>tempier-bandol-tourtine-2017</td>\n",
       "      <td>2019-11-02 12:59:24</td>\n",
       "      <td>2019-11-02 11:59:24</td>\n",
       "      <td>0.0</td>\n",
       "      <td>https://www.bottle-neck.fr/?post_type=product&amp;...</td>\n",
       "      <td>0.0</td>\n",
       "      <td>product</td>\n",
       "      <td>NaN</td>\n",
       "      <td>0.0</td>\n",
       "    </tr>\n",
       "    <tr>\n",
       "      <th>1301</th>\n",
       "      <td>19822.0</td>\n",
       "      <td>0</td>\n",
       "      <td>0</td>\n",
       "      <td>0</td>\n",
       "      <td>0.0</td>\n",
       "      <td>0.0</td>\n",
       "      <td>NaN</td>\n",
       "      <td>2.0</td>\n",
       "      <td>2018-11-26 10:59:10</td>\n",
       "      <td>2018-11-26 09:59:10</td>\n",
       "      <td>...</td>\n",
       "      <td>closed</td>\n",
       "      <td>tempier-bandol-cabassaou-2017</td>\n",
       "      <td>2020-01-04 13:57:04</td>\n",
       "      <td>2020-01-04 12:57:04</td>\n",
       "      <td>0.0</td>\n",
       "      <td>https://www.bottle-neck.fr/wp-content/uploads/...</td>\n",
       "      <td>0.0</td>\n",
       "      <td>attachment</td>\n",
       "      <td>image/jpeg</td>\n",
       "      <td>0.0</td>\n",
       "    </tr>\n",
       "    <tr>\n",
       "      <th>527</th>\n",
       "      <td>19822.0</td>\n",
       "      <td>0</td>\n",
       "      <td>0</td>\n",
       "      <td>0</td>\n",
       "      <td>0.0</td>\n",
       "      <td>0.0</td>\n",
       "      <td>taxable</td>\n",
       "      <td>2.0</td>\n",
       "      <td>2018-11-26 10:59:10</td>\n",
       "      <td>2018-11-26 09:59:10</td>\n",
       "      <td>...</td>\n",
       "      <td>closed</td>\n",
       "      <td>tempier-bandol-cabassaou-2017</td>\n",
       "      <td>2020-01-04 13:57:04</td>\n",
       "      <td>2020-01-04 12:57:04</td>\n",
       "      <td>0.0</td>\n",
       "      <td>https://www.bottle-neck.fr/?post_type=product&amp;...</td>\n",
       "      <td>0.0</td>\n",
       "      <td>product</td>\n",
       "      <td>NaN</td>\n",
       "      <td>0.0</td>\n",
       "    </tr>\n",
       "    <tr>\n",
       "      <th>797</th>\n",
       "      <td>131271.0</td>\n",
       "      <td>0</td>\n",
       "      <td>0</td>\n",
       "      <td>0</td>\n",
       "      <td>0.0</td>\n",
       "      <td>0.0</td>\n",
       "      <td>taxable</td>\n",
       "      <td>2.0</td>\n",
       "      <td>2020-06-09 15:42:04</td>\n",
       "      <td>2020-06-09 13:42:04</td>\n",
       "      <td>...</td>\n",
       "      <td>closed</td>\n",
       "      <td>clos-du-mont-olivet-chateauneuf-du-pape-2007-2</td>\n",
       "      <td>2020-07-20 17:09:06</td>\n",
       "      <td>2020-07-20 15:09:06</td>\n",
       "      <td>0.0</td>\n",
       "      <td>https://www.bottle-neck.fr/?post_type=product&amp;...</td>\n",
       "      <td>0.0</td>\n",
       "      <td>product</td>\n",
       "      <td>NaN</td>\n",
       "      <td>0.0</td>\n",
       "    </tr>\n",
       "    <tr>\n",
       "      <th>1511</th>\n",
       "      <td>131271.0</td>\n",
       "      <td>0</td>\n",
       "      <td>0</td>\n",
       "      <td>0</td>\n",
       "      <td>0.0</td>\n",
       "      <td>0.0</td>\n",
       "      <td>NaN</td>\n",
       "      <td>2.0</td>\n",
       "      <td>2020-06-09 15:42:04</td>\n",
       "      <td>2020-06-09 13:42:04</td>\n",
       "      <td>...</td>\n",
       "      <td>closed</td>\n",
       "      <td>clos-du-mont-olivet-chateauneuf-du-pape-2007-2</td>\n",
       "      <td>2020-07-20 17:09:06</td>\n",
       "      <td>2020-07-20 15:09:06</td>\n",
       "      <td>0.0</td>\n",
       "      <td>https://www.bottle-neck.fr/wp-content/uploads/...</td>\n",
       "      <td>0.0</td>\n",
       "      <td>attachment</td>\n",
       "      <td>image/jpeg</td>\n",
       "      <td>0.0</td>\n",
       "    </tr>\n",
       "  </tbody>\n",
       "</table>\n",
       "<p>1428 rows × 24 columns</p>\n",
       "</div>"
      ],
      "text/plain": [
       "           sku  virtual  downloadable  rating_count  average_rating  \\\n",
       "0         37.0        0             0             0             0.0   \n",
       "1209      37.0        0             0             0             0.0   \n",
       "339       38.0        0             0             0             0.0   \n",
       "1123      38.0        0             0             0             0.0   \n",
       "269       41.0        0             0             0             0.0   \n",
       "...        ...      ...           ...           ...             ...   \n",
       "525    19821.0        0             0             0             0.0   \n",
       "1301   19822.0        0             0             0             0.0   \n",
       "527    19822.0        0             0             0             0.0   \n",
       "797   131271.0        0             0             0             0.0   \n",
       "1511  131271.0        0             0             0             0.0   \n",
       "\n",
       "      total_sales tax_status  post_author           post_date  \\\n",
       "0            10.0    taxable          1.0 2018-06-01 13:53:46   \n",
       "1209         10.0        NaN          1.0 2018-06-01 13:53:46   \n",
       "339          38.0    taxable          2.0 2018-04-18 12:25:58   \n",
       "1123         38.0        NaN          2.0 2018-04-18 12:25:58   \n",
       "269           0.0    taxable          2.0 2018-04-14 12:01:43   \n",
       "...           ...        ...          ...                 ...   \n",
       "525           0.0    taxable          2.0 2018-11-26 10:56:30   \n",
       "1301          0.0        NaN          2.0 2018-11-26 10:59:10   \n",
       "527           0.0    taxable          2.0 2018-11-26 10:59:10   \n",
       "797           0.0    taxable          2.0 2020-06-09 15:42:04   \n",
       "1511          0.0        NaN          2.0 2020-06-09 15:42:04   \n",
       "\n",
       "           post_date_gmt  ... ping_status  \\\n",
       "0    2018-06-01 11:53:46  ...      closed   \n",
       "1209 2018-06-01 11:53:46  ...      closed   \n",
       "339  2018-04-18 10:25:58  ...      closed   \n",
       "1123 2018-04-18 10:25:58  ...      closed   \n",
       "269  2018-04-14 10:01:43  ...      closed   \n",
       "...                  ...  ...         ...   \n",
       "525  2018-11-26 09:56:30  ...      closed   \n",
       "1301 2018-11-26 09:59:10  ...      closed   \n",
       "527  2018-11-26 09:59:10  ...      closed   \n",
       "797  2020-06-09 13:42:04  ...      closed   \n",
       "1511 2020-06-09 13:42:04  ...      closed   \n",
       "\n",
       "                                           post_name       post_modified  \\\n",
       "0                             bon-cadeau-de-25-euros 2018-06-01 14:13:57   \n",
       "1209                          bon-cadeau-de-25-euros 2018-06-01 14:13:57   \n",
       "339       emile-boeckel-cremant-brut-blanc-de-blancs 2020-08-27 17:15:03   \n",
       "1123      emile-boeckel-cremant-brut-blanc-de-blancs 2020-08-27 17:15:03   \n",
       "269   marcel-windholtz-eau-de-marc-de-gewurztraminer 2020-08-03 10:25:02   \n",
       "...                                              ...                 ...   \n",
       "525                     tempier-bandol-tourtine-2017 2019-11-02 12:59:24   \n",
       "1301                   tempier-bandol-cabassaou-2017 2020-01-04 13:57:04   \n",
       "527                    tempier-bandol-cabassaou-2017 2020-01-04 13:57:04   \n",
       "797   clos-du-mont-olivet-chateauneuf-du-pape-2007-2 2020-07-20 17:09:06   \n",
       "1511  clos-du-mont-olivet-chateauneuf-du-pape-2007-2 2020-07-20 17:09:06   \n",
       "\n",
       "       post_modified_gmt post_parent  \\\n",
       "0    2018-06-01 12:13:57         0.0   \n",
       "1209 2018-06-01 12:13:57         0.0   \n",
       "339  2020-08-27 15:15:03         0.0   \n",
       "1123 2020-08-27 15:15:03         0.0   \n",
       "269  2020-08-03 08:25:02         0.0   \n",
       "...                  ...         ...   \n",
       "525  2019-11-02 11:59:24         0.0   \n",
       "1301 2020-01-04 12:57:04         0.0   \n",
       "527  2020-01-04 12:57:04         0.0   \n",
       "797  2020-07-20 15:09:06         0.0   \n",
       "1511 2020-07-20 15:09:06         0.0   \n",
       "\n",
       "                                                   guid menu_order  \\\n",
       "0     https://www.bottle-neck.fr/?post_type=product&...        0.0   \n",
       "1209  https://www.bottle-neck.fr/wp-content/uploads/...        0.0   \n",
       "339   https://www.bottle-neck.fr/?post_type=product&...        0.0   \n",
       "1123  https://www.bottle-neck.fr/wp-content/uploads/...        0.0   \n",
       "269   https://www.bottle-neck.fr/?post_type=product&...        0.0   \n",
       "...                                                 ...        ...   \n",
       "525   https://www.bottle-neck.fr/?post_type=product&...        0.0   \n",
       "1301  https://www.bottle-neck.fr/wp-content/uploads/...        0.0   \n",
       "527   https://www.bottle-neck.fr/?post_type=product&...        0.0   \n",
       "797   https://www.bottle-neck.fr/?post_type=product&...        0.0   \n",
       "1511  https://www.bottle-neck.fr/wp-content/uploads/...        0.0   \n",
       "\n",
       "       post_type  post_mime_type comment_count  \n",
       "0        product             NaN           0.0  \n",
       "1209  attachment      image/jpeg           0.0  \n",
       "339      product             NaN           0.0  \n",
       "1123  attachment      image/jpeg           0.0  \n",
       "269      product             NaN           0.0  \n",
       "...          ...             ...           ...  \n",
       "525      product             NaN           0.0  \n",
       "1301  attachment      image/jpeg           0.0  \n",
       "527      product             NaN           0.0  \n",
       "797      product             NaN           0.0  \n",
       "1511  attachment      image/jpeg           0.0  \n",
       "\n",
       "[1428 rows x 24 columns]"
      ]
     },
     "execution_count": 29,
     "metadata": {},
     "output_type": "execute_result"
    }
   ],
   "source": [
    "web.loc[web['sku'].duplicated(keep=False),:].sort_values('sku')"
   ]
  },
  {
   "cell_type": "markdown",
   "id": "344099c5",
   "metadata": {},
   "source": [
    "On voit qu'il y a, pour chaque produit unique (même clé primaire), deux lignes : \n",
    "\n",
    "- une ligne où 'tax_statut' = 'taxable', 'post_type' = 'product' et 'post_mime_type' est manquant;\n",
    "- une ligne où 'tax_statut' est manquant, 'post_type' = 'attachment' et 'post_mime_type' = 'image/jpeg'.\n",
    "\n",
    "Pour nos analyses, on ne va utiliser que les informations référentes aux produits. On n'aura pas besoin des lignes concernantes aux images attachées de chaque produit, donc on ira les supprimer :"
   ]
  },
  {
   "cell_type": "code",
   "execution_count": 30,
   "id": "08e4b02d",
   "metadata": {},
   "outputs": [],
   "source": [
    "web = web.loc[web['post_type'] == 'product', :]"
   ]
  },
  {
   "cell_type": "markdown",
   "id": "66faa62a",
   "metadata": {},
   "source": [
    "Et on n'a pas besoin de la colonne 'post_mime_type', qui est nulle, donc on la supprime aussi :"
   ]
  },
  {
   "cell_type": "code",
   "execution_count": 31,
   "id": "09059a8b",
   "metadata": {},
   "outputs": [],
   "source": [
    "web.drop(['post_mime_type'], axis=1, inplace=True)"
   ]
  },
  {
   "cell_type": "markdown",
   "id": "387a3ad5",
   "metadata": {},
   "source": [
    "De cette manière, nous avons une table finale qui respecte la contrainte d'unicité de la clé primaire SKU."
   ]
  },
  {
   "cell_type": "markdown",
   "id": "cffcda07",
   "metadata": {},
   "source": [
    "### 4. Detection d'outliers"
   ]
  },
  {
   "cell_type": "code",
   "execution_count": 32,
   "id": "bbb62a01",
   "metadata": {},
   "outputs": [
    {
     "data": {
      "text/html": [
       "<div>\n",
       "<style scoped>\n",
       "    .dataframe tbody tr th:only-of-type {\n",
       "        vertical-align: middle;\n",
       "    }\n",
       "\n",
       "    .dataframe tbody tr th {\n",
       "        vertical-align: top;\n",
       "    }\n",
       "\n",
       "    .dataframe thead th {\n",
       "        text-align: right;\n",
       "    }\n",
       "</style>\n",
       "<table border=\"1\" class=\"dataframe\">\n",
       "  <thead>\n",
       "    <tr style=\"text-align: right;\">\n",
       "      <th></th>\n",
       "      <th>product_id</th>\n",
       "      <th>onsale_web</th>\n",
       "      <th>price</th>\n",
       "      <th>stock_quantity</th>\n",
       "    </tr>\n",
       "  </thead>\n",
       "  <tbody>\n",
       "    <tr>\n",
       "      <th>count</th>\n",
       "      <td>825.000000</td>\n",
       "      <td>825.000000</td>\n",
       "      <td>825.000000</td>\n",
       "      <td>825.000000</td>\n",
       "    </tr>\n",
       "    <tr>\n",
       "      <th>mean</th>\n",
       "      <td>5162.597576</td>\n",
       "      <td>0.869091</td>\n",
       "      <td>32.415636</td>\n",
       "      <td>26.496970</td>\n",
       "    </tr>\n",
       "    <tr>\n",
       "      <th>std</th>\n",
       "      <td>902.644635</td>\n",
       "      <td>0.337506</td>\n",
       "      <td>26.795849</td>\n",
       "      <td>45.892422</td>\n",
       "    </tr>\n",
       "    <tr>\n",
       "      <th>min</th>\n",
       "      <td>3847.000000</td>\n",
       "      <td>0.000000</td>\n",
       "      <td>5.200000</td>\n",
       "      <td>0.000000</td>\n",
       "    </tr>\n",
       "    <tr>\n",
       "      <th>25%</th>\n",
       "      <td>4348.000000</td>\n",
       "      <td>1.000000</td>\n",
       "      <td>14.600000</td>\n",
       "      <td>1.000000</td>\n",
       "    </tr>\n",
       "    <tr>\n",
       "      <th>50%</th>\n",
       "      <td>4907.000000</td>\n",
       "      <td>1.000000</td>\n",
       "      <td>24.400000</td>\n",
       "      <td>11.000000</td>\n",
       "    </tr>\n",
       "    <tr>\n",
       "      <th>75%</th>\n",
       "      <td>5805.000000</td>\n",
       "      <td>1.000000</td>\n",
       "      <td>42.000000</td>\n",
       "      <td>34.000000</td>\n",
       "    </tr>\n",
       "    <tr>\n",
       "      <th>max</th>\n",
       "      <td>7338.000000</td>\n",
       "      <td>1.000000</td>\n",
       "      <td>225.000000</td>\n",
       "      <td>578.000000</td>\n",
       "    </tr>\n",
       "  </tbody>\n",
       "</table>\n",
       "</div>"
      ],
      "text/plain": [
       "        product_id  onsale_web       price  stock_quantity\n",
       "count   825.000000  825.000000  825.000000      825.000000\n",
       "mean   5162.597576    0.869091   32.415636       26.496970\n",
       "std     902.644635    0.337506   26.795849       45.892422\n",
       "min    3847.000000    0.000000    5.200000        0.000000\n",
       "25%    4348.000000    1.000000   14.600000        1.000000\n",
       "50%    4907.000000    1.000000   24.400000       11.000000\n",
       "75%    5805.000000    1.000000   42.000000       34.000000\n",
       "max    7338.000000    1.000000  225.000000      578.000000"
      ]
     },
     "execution_count": 32,
     "metadata": {},
     "output_type": "execute_result"
    }
   ],
   "source": [
    "erp.describe()"
   ]
  },
  {
   "cell_type": "code",
   "execution_count": 33,
   "id": "49ebedb4",
   "metadata": {},
   "outputs": [
    {
     "data": {
      "text/html": [
       "<div>\n",
       "<style scoped>\n",
       "    .dataframe tbody tr th:only-of-type {\n",
       "        vertical-align: middle;\n",
       "    }\n",
       "\n",
       "    .dataframe tbody tr th {\n",
       "        vertical-align: top;\n",
       "    }\n",
       "\n",
       "    .dataframe thead th {\n",
       "        text-align: right;\n",
       "    }\n",
       "</style>\n",
       "<table border=\"1\" class=\"dataframe\">\n",
       "  <thead>\n",
       "    <tr style=\"text-align: right;\">\n",
       "      <th></th>\n",
       "      <th>sku</th>\n",
       "      <th>virtual</th>\n",
       "      <th>downloadable</th>\n",
       "      <th>rating_count</th>\n",
       "      <th>average_rating</th>\n",
       "      <th>total_sales</th>\n",
       "      <th>post_author</th>\n",
       "      <th>post_parent</th>\n",
       "      <th>menu_order</th>\n",
       "      <th>comment_count</th>\n",
       "    </tr>\n",
       "  </thead>\n",
       "  <tbody>\n",
       "    <tr>\n",
       "      <th>count</th>\n",
       "      <td>714.000000</td>\n",
       "      <td>714.0</td>\n",
       "      <td>714.0</td>\n",
       "      <td>714.0</td>\n",
       "      <td>714.0</td>\n",
       "      <td>714.000000</td>\n",
       "      <td>714.000000</td>\n",
       "      <td>714.0</td>\n",
       "      <td>714.0</td>\n",
       "      <td>714.0</td>\n",
       "    </tr>\n",
       "    <tr>\n",
       "      <th>mean</th>\n",
       "      <td>14622.978992</td>\n",
       "      <td>0.0</td>\n",
       "      <td>0.0</td>\n",
       "      <td>0.0</td>\n",
       "      <td>0.0</td>\n",
       "      <td>4.012605</td>\n",
       "      <td>1.998599</td>\n",
       "      <td>0.0</td>\n",
       "      <td>0.0</td>\n",
       "      <td>0.0</td>\n",
       "    </tr>\n",
       "    <tr>\n",
       "      <th>std</th>\n",
       "      <td>5332.437852</td>\n",
       "      <td>0.0</td>\n",
       "      <td>0.0</td>\n",
       "      <td>0.0</td>\n",
       "      <td>0.0</td>\n",
       "      <td>8.518183</td>\n",
       "      <td>0.037424</td>\n",
       "      <td>0.0</td>\n",
       "      <td>0.0</td>\n",
       "      <td>0.0</td>\n",
       "    </tr>\n",
       "    <tr>\n",
       "      <th>min</th>\n",
       "      <td>37.000000</td>\n",
       "      <td>0.0</td>\n",
       "      <td>0.0</td>\n",
       "      <td>0.0</td>\n",
       "      <td>0.0</td>\n",
       "      <td>0.000000</td>\n",
       "      <td>1.000000</td>\n",
       "      <td>0.0</td>\n",
       "      <td>0.0</td>\n",
       "      <td>0.0</td>\n",
       "    </tr>\n",
       "    <tr>\n",
       "      <th>25%</th>\n",
       "      <td>14367.250000</td>\n",
       "      <td>0.0</td>\n",
       "      <td>0.0</td>\n",
       "      <td>0.0</td>\n",
       "      <td>0.0</td>\n",
       "      <td>0.000000</td>\n",
       "      <td>2.000000</td>\n",
       "      <td>0.0</td>\n",
       "      <td>0.0</td>\n",
       "      <td>0.0</td>\n",
       "    </tr>\n",
       "    <tr>\n",
       "      <th>50%</th>\n",
       "      <td>15380.000000</td>\n",
       "      <td>0.0</td>\n",
       "      <td>0.0</td>\n",
       "      <td>0.0</td>\n",
       "      <td>0.0</td>\n",
       "      <td>1.000000</td>\n",
       "      <td>2.000000</td>\n",
       "      <td>0.0</td>\n",
       "      <td>0.0</td>\n",
       "      <td>0.0</td>\n",
       "    </tr>\n",
       "    <tr>\n",
       "      <th>75%</th>\n",
       "      <td>15880.750000</td>\n",
       "      <td>0.0</td>\n",
       "      <td>0.0</td>\n",
       "      <td>0.0</td>\n",
       "      <td>0.0</td>\n",
       "      <td>4.000000</td>\n",
       "      <td>2.000000</td>\n",
       "      <td>0.0</td>\n",
       "      <td>0.0</td>\n",
       "      <td>0.0</td>\n",
       "    </tr>\n",
       "    <tr>\n",
       "      <th>max</th>\n",
       "      <td>131271.000000</td>\n",
       "      <td>0.0</td>\n",
       "      <td>0.0</td>\n",
       "      <td>0.0</td>\n",
       "      <td>0.0</td>\n",
       "      <td>96.000000</td>\n",
       "      <td>2.000000</td>\n",
       "      <td>0.0</td>\n",
       "      <td>0.0</td>\n",
       "      <td>0.0</td>\n",
       "    </tr>\n",
       "  </tbody>\n",
       "</table>\n",
       "</div>"
      ],
      "text/plain": [
       "                 sku  virtual  downloadable  rating_count  average_rating  \\\n",
       "count     714.000000    714.0         714.0         714.0           714.0   \n",
       "mean    14622.978992      0.0           0.0           0.0             0.0   \n",
       "std      5332.437852      0.0           0.0           0.0             0.0   \n",
       "min        37.000000      0.0           0.0           0.0             0.0   \n",
       "25%     14367.250000      0.0           0.0           0.0             0.0   \n",
       "50%     15380.000000      0.0           0.0           0.0             0.0   \n",
       "75%     15880.750000      0.0           0.0           0.0             0.0   \n",
       "max    131271.000000      0.0           0.0           0.0             0.0   \n",
       "\n",
       "       total_sales  post_author  post_parent  menu_order  comment_count  \n",
       "count   714.000000   714.000000        714.0       714.0          714.0  \n",
       "mean      4.012605     1.998599          0.0         0.0            0.0  \n",
       "std       8.518183     0.037424          0.0         0.0            0.0  \n",
       "min       0.000000     1.000000          0.0         0.0            0.0  \n",
       "25%       0.000000     2.000000          0.0         0.0            0.0  \n",
       "50%       1.000000     2.000000          0.0         0.0            0.0  \n",
       "75%       4.000000     2.000000          0.0         0.0            0.0  \n",
       "max      96.000000     2.000000          0.0         0.0            0.0  "
      ]
     },
     "execution_count": 33,
     "metadata": {},
     "output_type": "execute_result"
    }
   ],
   "source": [
    "web.describe()"
   ]
  },
  {
   "cell_type": "markdown",
   "id": "e404948d",
   "metadata": {},
   "source": [
    "Nous allons étudier la distribution de la variable 'prix' lors de la cinquième étape pour pouvoir détecter des outliers."
   ]
  },
  {
   "cell_type": "markdown",
   "id": "3ba638ea",
   "metadata": {},
   "source": [
    "# 1. Rapprochement des exports"
   ]
  },
  {
   "cell_type": "markdown",
   "id": "c59f5730",
   "metadata": {},
   "source": [
    "Jointure interne :"
   ]
  },
  {
   "cell_type": "code",
   "execution_count": 34,
   "id": "1e89a8b8",
   "metadata": {},
   "outputs": [
    {
     "data": {
      "text/html": [
       "<div>\n",
       "<style scoped>\n",
       "    .dataframe tbody tr th:only-of-type {\n",
       "        vertical-align: middle;\n",
       "    }\n",
       "\n",
       "    .dataframe tbody tr th {\n",
       "        vertical-align: top;\n",
       "    }\n",
       "\n",
       "    .dataframe thead th {\n",
       "        text-align: right;\n",
       "    }\n",
       "</style>\n",
       "<table border=\"1\" class=\"dataframe\">\n",
       "  <thead>\n",
       "    <tr style=\"text-align: right;\">\n",
       "      <th></th>\n",
       "      <th>product_id</th>\n",
       "      <th>onsale_web</th>\n",
       "      <th>price</th>\n",
       "      <th>stock_quantity</th>\n",
       "      <th>stock_status</th>\n",
       "      <th>sku</th>\n",
       "    </tr>\n",
       "  </thead>\n",
       "  <tbody>\n",
       "    <tr>\n",
       "      <th>0</th>\n",
       "      <td>3847</td>\n",
       "      <td>1</td>\n",
       "      <td>24.2</td>\n",
       "      <td>0</td>\n",
       "      <td>outofstock</td>\n",
       "      <td>15298.0</td>\n",
       "    </tr>\n",
       "    <tr>\n",
       "      <th>1</th>\n",
       "      <td>3849</td>\n",
       "      <td>1</td>\n",
       "      <td>34.3</td>\n",
       "      <td>0</td>\n",
       "      <td>outofstock</td>\n",
       "      <td>15296.0</td>\n",
       "    </tr>\n",
       "    <tr>\n",
       "      <th>2</th>\n",
       "      <td>3850</td>\n",
       "      <td>1</td>\n",
       "      <td>20.8</td>\n",
       "      <td>0</td>\n",
       "      <td>outofstock</td>\n",
       "      <td>15300.0</td>\n",
       "    </tr>\n",
       "    <tr>\n",
       "      <th>3</th>\n",
       "      <td>4032</td>\n",
       "      <td>1</td>\n",
       "      <td>14.1</td>\n",
       "      <td>0</td>\n",
       "      <td>outofstock</td>\n",
       "      <td>19814.0</td>\n",
       "    </tr>\n",
       "    <tr>\n",
       "      <th>4</th>\n",
       "      <td>4039</td>\n",
       "      <td>1</td>\n",
       "      <td>46.0</td>\n",
       "      <td>0</td>\n",
       "      <td>outofstock</td>\n",
       "      <td>19815.0</td>\n",
       "    </tr>\n",
       "  </tbody>\n",
       "</table>\n",
       "</div>"
      ],
      "text/plain": [
       "   product_id  onsale_web  price  stock_quantity stock_status      sku\n",
       "0        3847           1   24.2               0   outofstock  15298.0\n",
       "1        3849           1   34.3               0   outofstock  15296.0\n",
       "2        3850           1   20.8               0   outofstock  15300.0\n",
       "3        4032           1   14.1               0   outofstock  19814.0\n",
       "4        4039           1   46.0               0   outofstock  19815.0"
      ]
     },
     "execution_count": 34,
     "metadata": {},
     "output_type": "execute_result"
    }
   ],
   "source": [
    "erp_liaison = pd.merge(erp, liaison, on = 'product_id')\n",
    "erp_liaison.head()"
   ]
  },
  {
   "cell_type": "markdown",
   "id": "5a23dc1e",
   "metadata": {},
   "source": [
    "Jointure à gauche :"
   ]
  },
  {
   "cell_type": "code",
   "execution_count": 35,
   "id": "79c834c0",
   "metadata": {},
   "outputs": [
    {
     "data": {
      "text/html": [
       "<div>\n",
       "<style scoped>\n",
       "    .dataframe tbody tr th:only-of-type {\n",
       "        vertical-align: middle;\n",
       "    }\n",
       "\n",
       "    .dataframe tbody tr th {\n",
       "        vertical-align: top;\n",
       "    }\n",
       "\n",
       "    .dataframe thead th {\n",
       "        text-align: right;\n",
       "    }\n",
       "</style>\n",
       "<table border=\"1\" class=\"dataframe\">\n",
       "  <thead>\n",
       "    <tr style=\"text-align: right;\">\n",
       "      <th></th>\n",
       "      <th>product_id</th>\n",
       "      <th>onsale_web</th>\n",
       "      <th>price</th>\n",
       "      <th>stock_quantity</th>\n",
       "      <th>stock_status</th>\n",
       "      <th>sku</th>\n",
       "      <th>virtual</th>\n",
       "      <th>downloadable</th>\n",
       "      <th>rating_count</th>\n",
       "      <th>average_rating</th>\n",
       "      <th>...</th>\n",
       "      <th>comment_status</th>\n",
       "      <th>ping_status</th>\n",
       "      <th>post_name</th>\n",
       "      <th>post_modified</th>\n",
       "      <th>post_modified_gmt</th>\n",
       "      <th>post_parent</th>\n",
       "      <th>guid</th>\n",
       "      <th>menu_order</th>\n",
       "      <th>post_type</th>\n",
       "      <th>comment_count</th>\n",
       "    </tr>\n",
       "  </thead>\n",
       "  <tbody>\n",
       "    <tr>\n",
       "      <th>0</th>\n",
       "      <td>3847</td>\n",
       "      <td>1</td>\n",
       "      <td>24.2</td>\n",
       "      <td>0</td>\n",
       "      <td>outofstock</td>\n",
       "      <td>15298.0</td>\n",
       "      <td>0.0</td>\n",
       "      <td>0.0</td>\n",
       "      <td>0.0</td>\n",
       "      <td>0.0</td>\n",
       "      <td>...</td>\n",
       "      <td>closed</td>\n",
       "      <td>closed</td>\n",
       "      <td>pierre-jean-villa-saint-joseph-preface-2018</td>\n",
       "      <td>2019-12-30 09:30:29</td>\n",
       "      <td>2019-12-30 08:30:29</td>\n",
       "      <td>0.0</td>\n",
       "      <td>https://www.bottle-neck.fr/?post_type=product&amp;...</td>\n",
       "      <td>0.0</td>\n",
       "      <td>product</td>\n",
       "      <td>0.0</td>\n",
       "    </tr>\n",
       "    <tr>\n",
       "      <th>1</th>\n",
       "      <td>3849</td>\n",
       "      <td>1</td>\n",
       "      <td>34.3</td>\n",
       "      <td>0</td>\n",
       "      <td>outofstock</td>\n",
       "      <td>15296.0</td>\n",
       "      <td>0.0</td>\n",
       "      <td>0.0</td>\n",
       "      <td>0.0</td>\n",
       "      <td>0.0</td>\n",
       "      <td>...</td>\n",
       "      <td>closed</td>\n",
       "      <td>closed</td>\n",
       "      <td>pierre-jean-villa-saint-joseph-tilde-2017</td>\n",
       "      <td>2019-12-21 09:00:17</td>\n",
       "      <td>2019-12-21 08:00:17</td>\n",
       "      <td>0.0</td>\n",
       "      <td>https://www.bottle-neck.fr/?post_type=product&amp;...</td>\n",
       "      <td>0.0</td>\n",
       "      <td>product</td>\n",
       "      <td>0.0</td>\n",
       "    </tr>\n",
       "    <tr>\n",
       "      <th>2</th>\n",
       "      <td>3850</td>\n",
       "      <td>1</td>\n",
       "      <td>20.8</td>\n",
       "      <td>0</td>\n",
       "      <td>outofstock</td>\n",
       "      <td>15300.0</td>\n",
       "      <td>0.0</td>\n",
       "      <td>0.0</td>\n",
       "      <td>0.0</td>\n",
       "      <td>0.0</td>\n",
       "      <td>...</td>\n",
       "      <td>closed</td>\n",
       "      <td>closed</td>\n",
       "      <td>pierre-jean-villa-croze-hermitage-accroche-coe...</td>\n",
       "      <td>2020-06-26 18:15:03</td>\n",
       "      <td>2020-06-26 16:15:03</td>\n",
       "      <td>0.0</td>\n",
       "      <td>https://www.bottle-neck.fr/?post_type=product&amp;...</td>\n",
       "      <td>0.0</td>\n",
       "      <td>product</td>\n",
       "      <td>0.0</td>\n",
       "    </tr>\n",
       "    <tr>\n",
       "      <th>3</th>\n",
       "      <td>4032</td>\n",
       "      <td>1</td>\n",
       "      <td>14.1</td>\n",
       "      <td>0</td>\n",
       "      <td>outofstock</td>\n",
       "      <td>19814.0</td>\n",
       "      <td>0.0</td>\n",
       "      <td>0.0</td>\n",
       "      <td>0.0</td>\n",
       "      <td>0.0</td>\n",
       "      <td>...</td>\n",
       "      <td>closed</td>\n",
       "      <td>closed</td>\n",
       "      <td>pierre-jean-villa-igp-gamine-2018</td>\n",
       "      <td>2020-01-04 16:36:01</td>\n",
       "      <td>2020-01-04 15:36:01</td>\n",
       "      <td>0.0</td>\n",
       "      <td>https://www.bottle-neck.fr/?post_type=product&amp;...</td>\n",
       "      <td>0.0</td>\n",
       "      <td>product</td>\n",
       "      <td>0.0</td>\n",
       "    </tr>\n",
       "    <tr>\n",
       "      <th>4</th>\n",
       "      <td>4039</td>\n",
       "      <td>1</td>\n",
       "      <td>46.0</td>\n",
       "      <td>0</td>\n",
       "      <td>outofstock</td>\n",
       "      <td>19815.0</td>\n",
       "      <td>0.0</td>\n",
       "      <td>0.0</td>\n",
       "      <td>0.0</td>\n",
       "      <td>0.0</td>\n",
       "      <td>...</td>\n",
       "      <td>closed</td>\n",
       "      <td>closed</td>\n",
       "      <td>pierre-jean-villa-cote-rotie-carmina-2017</td>\n",
       "      <td>2020-01-04 16:36:10</td>\n",
       "      <td>2020-01-04 15:36:10</td>\n",
       "      <td>0.0</td>\n",
       "      <td>https://www.bottle-neck.fr/?post_type=product&amp;...</td>\n",
       "      <td>0.0</td>\n",
       "      <td>product</td>\n",
       "      <td>0.0</td>\n",
       "    </tr>\n",
       "  </tbody>\n",
       "</table>\n",
       "<p>5 rows × 28 columns</p>\n",
       "</div>"
      ],
      "text/plain": [
       "   product_id  onsale_web  price  stock_quantity stock_status      sku  \\\n",
       "0        3847           1   24.2               0   outofstock  15298.0   \n",
       "1        3849           1   34.3               0   outofstock  15296.0   \n",
       "2        3850           1   20.8               0   outofstock  15300.0   \n",
       "3        4032           1   14.1               0   outofstock  19814.0   \n",
       "4        4039           1   46.0               0   outofstock  19815.0   \n",
       "\n",
       "   virtual  downloadable  rating_count  average_rating  ...  comment_status  \\\n",
       "0      0.0           0.0           0.0             0.0  ...          closed   \n",
       "1      0.0           0.0           0.0             0.0  ...          closed   \n",
       "2      0.0           0.0           0.0             0.0  ...          closed   \n",
       "3      0.0           0.0           0.0             0.0  ...          closed   \n",
       "4      0.0           0.0           0.0             0.0  ...          closed   \n",
       "\n",
       "  ping_status                                          post_name  \\\n",
       "0      closed        pierre-jean-villa-saint-joseph-preface-2018   \n",
       "1      closed          pierre-jean-villa-saint-joseph-tilde-2017   \n",
       "2      closed  pierre-jean-villa-croze-hermitage-accroche-coe...   \n",
       "3      closed                  pierre-jean-villa-igp-gamine-2018   \n",
       "4      closed          pierre-jean-villa-cote-rotie-carmina-2017   \n",
       "\n",
       "        post_modified   post_modified_gmt post_parent  \\\n",
       "0 2019-12-30 09:30:29 2019-12-30 08:30:29         0.0   \n",
       "1 2019-12-21 09:00:17 2019-12-21 08:00:17         0.0   \n",
       "2 2020-06-26 18:15:03 2020-06-26 16:15:03         0.0   \n",
       "3 2020-01-04 16:36:01 2020-01-04 15:36:01         0.0   \n",
       "4 2020-01-04 16:36:10 2020-01-04 15:36:10         0.0   \n",
       "\n",
       "                                                guid menu_order post_type  \\\n",
       "0  https://www.bottle-neck.fr/?post_type=product&...        0.0   product   \n",
       "1  https://www.bottle-neck.fr/?post_type=product&...        0.0   product   \n",
       "2  https://www.bottle-neck.fr/?post_type=product&...        0.0   product   \n",
       "3  https://www.bottle-neck.fr/?post_type=product&...        0.0   product   \n",
       "4  https://www.bottle-neck.fr/?post_type=product&...        0.0   product   \n",
       "\n",
       "  comment_count  \n",
       "0           0.0  \n",
       "1           0.0  \n",
       "2           0.0  \n",
       "3           0.0  \n",
       "4           0.0  \n",
       "\n",
       "[5 rows x 28 columns]"
      ]
     },
     "execution_count": 35,
     "metadata": {},
     "output_type": "execute_result"
    }
   ],
   "source": [
    "web_erp = pd.merge(erp_liaison, web, on = 'sku', how = 'left')\n",
    "web_erp.head()"
   ]
  },
  {
   "cell_type": "code",
   "execution_count": 36,
   "id": "e32b5ea1",
   "metadata": {},
   "outputs": [
    {
     "data": {
      "text/plain": [
       "product_id             0\n",
       "onsale_web             0\n",
       "price                  0\n",
       "stock_quantity         0\n",
       "stock_status           0\n",
       "sku                   91\n",
       "virtual              111\n",
       "downloadable         111\n",
       "rating_count         111\n",
       "average_rating       111\n",
       "total_sales          111\n",
       "tax_status           111\n",
       "post_author          111\n",
       "post_date            111\n",
       "post_date_gmt        111\n",
       "post_title           111\n",
       "post_excerpt         111\n",
       "post_status          111\n",
       "comment_status       111\n",
       "ping_status          111\n",
       "post_name            111\n",
       "post_modified        111\n",
       "post_modified_gmt    111\n",
       "post_parent          111\n",
       "guid                 111\n",
       "menu_order           111\n",
       "post_type            111\n",
       "comment_count        111\n",
       "dtype: int64"
      ]
     },
     "execution_count": 36,
     "metadata": {},
     "output_type": "execute_result"
    }
   ],
   "source": [
    "web_erp.isnull().sum()"
   ]
  },
  {
   "cell_type": "code",
   "execution_count": 37,
   "id": "ad45d0ed",
   "metadata": {},
   "outputs": [
    {
     "data": {
      "text/plain": [
       "(825, 28)"
      ]
     },
     "execution_count": 37,
     "metadata": {},
     "output_type": "execute_result"
    }
   ],
   "source": [
    "web_erp.shape"
   ]
  },
  {
   "cell_type": "markdown",
   "id": "b09fa482",
   "metadata": {},
   "source": [
    "# 2. Chiffre d’affaires par produit"
   ]
  },
  {
   "cell_type": "code",
   "execution_count": 38,
   "id": "a7ff0c48",
   "metadata": {},
   "outputs": [
    {
     "data": {
      "text/html": [
       "<div>\n",
       "<style scoped>\n",
       "    .dataframe tbody tr th:only-of-type {\n",
       "        vertical-align: middle;\n",
       "    }\n",
       "\n",
       "    .dataframe tbody tr th {\n",
       "        vertical-align: top;\n",
       "    }\n",
       "\n",
       "    .dataframe thead th {\n",
       "        text-align: right;\n",
       "    }\n",
       "</style>\n",
       "<table border=\"1\" class=\"dataframe\">\n",
       "  <thead>\n",
       "    <tr style=\"text-align: right;\">\n",
       "      <th></th>\n",
       "      <th>product_id</th>\n",
       "      <th>sku</th>\n",
       "      <th>onsale_web</th>\n",
       "      <th>price</th>\n",
       "      <th>stock_quantity</th>\n",
       "      <th>CA par produit</th>\n",
       "    </tr>\n",
       "  </thead>\n",
       "  <tbody>\n",
       "    <tr>\n",
       "      <th>203</th>\n",
       "      <td>4334</td>\n",
       "      <td>7818.0</td>\n",
       "      <td>1</td>\n",
       "      <td>49.0</td>\n",
       "      <td>0</td>\n",
       "      <td>4704.0</td>\n",
       "    </tr>\n",
       "    <tr>\n",
       "      <th>74</th>\n",
       "      <td>4144</td>\n",
       "      <td>1662.0</td>\n",
       "      <td>1</td>\n",
       "      <td>49.0</td>\n",
       "      <td>11</td>\n",
       "      <td>4263.0</td>\n",
       "    </tr>\n",
       "    <tr>\n",
       "      <th>227</th>\n",
       "      <td>4402</td>\n",
       "      <td>3510.0</td>\n",
       "      <td>1</td>\n",
       "      <td>176.0</td>\n",
       "      <td>8</td>\n",
       "      <td>2288.0</td>\n",
       "    </tr>\n",
       "    <tr>\n",
       "      <th>73</th>\n",
       "      <td>4142</td>\n",
       "      <td>11641.0</td>\n",
       "      <td>1</td>\n",
       "      <td>53.0</td>\n",
       "      <td>8</td>\n",
       "      <td>1590.0</td>\n",
       "    </tr>\n",
       "    <tr>\n",
       "      <th>72</th>\n",
       "      <td>4141</td>\n",
       "      <td>304.0</td>\n",
       "      <td>1</td>\n",
       "      <td>39.0</td>\n",
       "      <td>1</td>\n",
       "      <td>1560.0</td>\n",
       "    </tr>\n",
       "  </tbody>\n",
       "</table>\n",
       "</div>"
      ],
      "text/plain": [
       "     product_id      sku  onsale_web  price  stock_quantity  CA par produit\n",
       "203        4334   7818.0           1   49.0               0          4704.0\n",
       "74         4144   1662.0           1   49.0              11          4263.0\n",
       "227        4402   3510.0           1  176.0               8          2288.0\n",
       "73         4142  11641.0           1   53.0               8          1590.0\n",
       "72         4141    304.0           1   39.0               1          1560.0"
      ]
     },
     "execution_count": 38,
     "metadata": {},
     "output_type": "execute_result"
    }
   ],
   "source": [
    "web_erp['CA par produit'] = web_erp['price']*web_erp['total_sales']\n",
    "CA = web_erp[['product_id', 'sku', 'onsale_web','price','stock_quantity','CA par produit']]\n",
    "CA.sort_values('CA par produit', ascending=False).head()"
   ]
  },
  {
   "cell_type": "markdown",
   "id": "f36f919d",
   "metadata": {},
   "source": [
    "# 3. Chiffre d’affaires total réalisé en ligne"
   ]
  },
  {
   "cell_type": "markdown",
   "id": "379df106",
   "metadata": {},
   "source": [
    "Si la valeur dans la colonne 'onsale_web' est égal à 1 (boolean), c'est-à dire que la vente a été réalisée en ligne. Donc :"
   ]
  },
  {
   "cell_type": "code",
   "execution_count": 39,
   "id": "50c12e32",
   "metadata": {},
   "outputs": [
    {
     "data": {
      "text/plain": [
       "70568.6"
      ]
     },
     "execution_count": 39,
     "metadata": {},
     "output_type": "execute_result"
    }
   ],
   "source": [
    "ca_total = web_erp.loc[web_erp['onsale_web']==1,'CA par produit'].sum()\n",
    "ca_total"
   ]
  },
  {
   "cell_type": "markdown",
   "id": "f53726d8",
   "metadata": {},
   "source": [
    "### Le CA total réalisé en ligne est de 70 568 €"
   ]
  },
  {
   "cell_type": "markdown",
   "id": "0f1d8b04",
   "metadata": {},
   "source": [
    "# 4. Analyse du prix des produits"
   ]
  },
  {
   "cell_type": "markdown",
   "id": "4b3fee1e",
   "metadata": {},
   "source": [
    "### 1. Représentation de la distribution empirique de la variable prix"
   ]
  },
  {
   "cell_type": "code",
   "execution_count": 40,
   "id": "906fb6ad",
   "metadata": {},
   "outputs": [
    {
     "data": {
      "image/png": "[encoded data removed]",
      "text/plain": [
       "<Figure size 720x504 with 1 Axes>"
      ]
     },
     "metadata": {
      "needs_background": "light"
     },
     "output_type": "display_data"
    }
   ],
   "source": [
    "# Histogramme\n",
    "plt.figure(figsize=(10,7))\n",
    "web_erp['price'].hist(density=True)\n",
    "plt.title(\"Distribution du prix des vins\", fontsize=15, fontweight='bold')\n",
    "plt.xlabel(\"Prix\")\n",
    "plt.ylabel(\"Fréquence\")\n",
    "plt.show()"
   ]
  },
  {
   "cell_type": "markdown",
   "id": "a7927e0c",
   "metadata": {},
   "source": [
    "### 2. Présentation de la variable prix sous forme de tableau"
   ]
  },
  {
   "cell_type": "code",
   "execution_count": 41,
   "id": "01341b56",
   "metadata": {},
   "outputs": [
    {
     "data": {
      "text/plain": [
       "0     (5.0, 27.0]\n",
       "1    (27.0, 49.0]\n",
       "2     (5.0, 27.0]\n",
       "3     (5.0, 27.0]\n",
       "4    (27.0, 49.0]\n",
       "Name: price, dtype: category\n",
       "Categories (10, interval[float64, right]): [(5.0, 27.0] < (27.0, 49.0] < (49.0, 71.0] < (71.0, 93.0] ... (137.0, 159.0] < (159.0, 181.0] < (181.0, 203.0] < (203.0, 225.0]]"
      ]
     },
     "execution_count": 41,
     "metadata": {},
     "output_type": "execute_result"
    }
   ],
   "source": [
    "cut = pd.cut(web_erp.price, bins=np.linspace(5, 225, 11)) # création des classes de prix (9 catégories)\n",
    "\n",
    "cut.head()"
   ]
  },
  {
   "cell_type": "code",
   "execution_count": 42,
   "id": "2c09427b",
   "metadata": {},
   "outputs": [
    {
     "data": {
      "text/html": [
       "<div>\n",
       "<style scoped>\n",
       "    .dataframe tbody tr th:only-of-type {\n",
       "        vertical-align: middle;\n",
       "    }\n",
       "\n",
       "    .dataframe tbody tr th {\n",
       "        vertical-align: top;\n",
       "    }\n",
       "\n",
       "    .dataframe thead th {\n",
       "        text-align: right;\n",
       "    }\n",
       "</style>\n",
       "<table border=\"1\" class=\"dataframe\">\n",
       "  <thead>\n",
       "    <tr style=\"text-align: right;\">\n",
       "      <th></th>\n",
       "      <th>Prix</th>\n",
       "    </tr>\n",
       "  </thead>\n",
       "  <tbody>\n",
       "    <tr>\n",
       "      <th>0</th>\n",
       "      <td>(5.0, 27.0]</td>\n",
       "    </tr>\n",
       "    <tr>\n",
       "      <th>1</th>\n",
       "      <td>(27.0, 49.0]</td>\n",
       "    </tr>\n",
       "    <tr>\n",
       "      <th>2</th>\n",
       "      <td>(5.0, 27.0]</td>\n",
       "    </tr>\n",
       "    <tr>\n",
       "      <th>3</th>\n",
       "      <td>(5.0, 27.0]</td>\n",
       "    </tr>\n",
       "    <tr>\n",
       "      <th>4</th>\n",
       "      <td>(27.0, 49.0]</td>\n",
       "    </tr>\n",
       "  </tbody>\n",
       "</table>\n",
       "</div>"
      ],
      "text/plain": [
       "           Prix\n",
       "0   (5.0, 27.0]\n",
       "1  (27.0, 49.0]\n",
       "2   (5.0, 27.0]\n",
       "3   (5.0, 27.0]\n",
       "4  (27.0, 49.0]"
      ]
     },
     "execution_count": 42,
     "metadata": {},
     "output_type": "execute_result"
    }
   ],
   "source": [
    "prix_categ = pd.DataFrame(cut.values, columns = ['Prix']) # classes de prix sous forme de tableau\n",
    "prix_categ.head()"
   ]
  },
  {
   "cell_type": "code",
   "execution_count": 43,
   "id": "358a2cdc",
   "metadata": {},
   "outputs": [
    {
     "data": {
      "text/plain": [
       "(5.0, 27.0]       455\n",
       "(27.0, 49.0]      227\n",
       "(49.0, 71.0]       81\n",
       "(71.0, 93.0]       34\n",
       "(93.0, 115.0]      13\n",
       "(115.0, 137.0]      8\n",
       "(137.0, 159.0]      2\n",
       "(159.0, 181.0]      2\n",
       "(203.0, 225.0]      2\n",
       "(181.0, 203.0]      1\n",
       "Name: Prix, dtype: int64"
      ]
     },
     "metadata": {},
     "output_type": "display_data"
    }
   ],
   "source": [
    "effectifs = prix_categ['Prix'].value_counts() # effectifs de chaque classe de prix\n",
    "display(effectifs)"
   ]
  },
  {
   "cell_type": "code",
   "execution_count": 44,
   "id": "422a6b94",
   "metadata": {},
   "outputs": [
    {
     "data": {
      "text/html": [
       "<div>\n",
       "<style scoped>\n",
       "    .dataframe tbody tr th:only-of-type {\n",
       "        vertical-align: middle;\n",
       "    }\n",
       "\n",
       "    .dataframe tbody tr th {\n",
       "        vertical-align: top;\n",
       "    }\n",
       "\n",
       "    .dataframe thead th {\n",
       "        text-align: right;\n",
       "    }\n",
       "</style>\n",
       "<table border=\"1\" class=\"dataframe\">\n",
       "  <thead>\n",
       "    <tr style=\"text-align: right;\">\n",
       "      <th></th>\n",
       "      <th>prix</th>\n",
       "      <th>n</th>\n",
       "      <th>f</th>\n",
       "    </tr>\n",
       "  </thead>\n",
       "  <tbody>\n",
       "    <tr>\n",
       "      <th>0</th>\n",
       "      <td>(5.0, 27.0]</td>\n",
       "      <td>455</td>\n",
       "      <td>0.551515</td>\n",
       "    </tr>\n",
       "    <tr>\n",
       "      <th>1</th>\n",
       "      <td>(27.0, 49.0]</td>\n",
       "      <td>227</td>\n",
       "      <td>0.275152</td>\n",
       "    </tr>\n",
       "    <tr>\n",
       "      <th>2</th>\n",
       "      <td>(49.0, 71.0]</td>\n",
       "      <td>81</td>\n",
       "      <td>0.098182</td>\n",
       "    </tr>\n",
       "    <tr>\n",
       "      <th>3</th>\n",
       "      <td>(71.0, 93.0]</td>\n",
       "      <td>34</td>\n",
       "      <td>0.041212</td>\n",
       "    </tr>\n",
       "    <tr>\n",
       "      <th>4</th>\n",
       "      <td>(93.0, 115.0]</td>\n",
       "      <td>13</td>\n",
       "      <td>0.015758</td>\n",
       "    </tr>\n",
       "    <tr>\n",
       "      <th>5</th>\n",
       "      <td>(115.0, 137.0]</td>\n",
       "      <td>8</td>\n",
       "      <td>0.009697</td>\n",
       "    </tr>\n",
       "    <tr>\n",
       "      <th>6</th>\n",
       "      <td>(137.0, 159.0]</td>\n",
       "      <td>2</td>\n",
       "      <td>0.002424</td>\n",
       "    </tr>\n",
       "    <tr>\n",
       "      <th>7</th>\n",
       "      <td>(159.0, 181.0]</td>\n",
       "      <td>2</td>\n",
       "      <td>0.002424</td>\n",
       "    </tr>\n",
       "    <tr>\n",
       "      <th>9</th>\n",
       "      <td>(181.0, 203.0]</td>\n",
       "      <td>1</td>\n",
       "      <td>0.001212</td>\n",
       "    </tr>\n",
       "    <tr>\n",
       "      <th>8</th>\n",
       "      <td>(203.0, 225.0]</td>\n",
       "      <td>2</td>\n",
       "      <td>0.002424</td>\n",
       "    </tr>\n",
       "  </tbody>\n",
       "</table>\n",
       "</div>"
      ],
      "text/plain": [
       "             prix    n         f\n",
       "0     (5.0, 27.0]  455  0.551515\n",
       "1    (27.0, 49.0]  227  0.275152\n",
       "2    (49.0, 71.0]   81  0.098182\n",
       "3    (71.0, 93.0]   34  0.041212\n",
       "4   (93.0, 115.0]   13  0.015758\n",
       "5  (115.0, 137.0]    8  0.009697\n",
       "6  (137.0, 159.0]    2  0.002424\n",
       "7  (159.0, 181.0]    2  0.002424\n",
       "9  (181.0, 203.0]    1  0.001212\n",
       "8  (203.0, 225.0]    2  0.002424"
      ]
     },
     "execution_count": 44,
     "metadata": {},
     "output_type": "execute_result"
    }
   ],
   "source": [
    "prix = effectifs.index # l'index de effectifs contient les modalités (classes de prix)\n",
    "\n",
    "tab = pd.DataFrame(prix, columns = ['prix']) # création du tableau à partir des modalités\n",
    "tab[\"n\"] = effectifs.values\n",
    "tab[\"f\"] = tab[\"n\"] / len(web_erp) # len(web_erp) renvoie la taille de l'échantillon\n",
    "\n",
    "tab.sort_values('prix')"
   ]
  },
  {
   "cell_type": "markdown",
   "id": "79f5a836",
   "metadata": {},
   "source": [
    "### 3. Mesures de tendance centrale"
   ]
  },
  {
   "cell_type": "code",
   "execution_count": 45,
   "id": "7bca8a02",
   "metadata": {},
   "outputs": [
    {
     "data": {
      "text/plain": [
       "32.41563636363638"
      ]
     },
     "execution_count": 45,
     "metadata": {},
     "output_type": "execute_result"
    }
   ],
   "source": [
    "web_erp['price'].mean()"
   ]
  },
  {
   "cell_type": "code",
   "execution_count": 46,
   "id": "835629e4",
   "metadata": {},
   "outputs": [
    {
     "data": {
      "text/plain": [
       "0    45.0\n",
       "Name: price, dtype: float64"
      ]
     },
     "execution_count": 46,
     "metadata": {},
     "output_type": "execute_result"
    }
   ],
   "source": [
    "web_erp['price'].mode()"
   ]
  },
  {
   "cell_type": "code",
   "execution_count": 47,
   "id": "9735ff09",
   "metadata": {},
   "outputs": [
    {
     "data": {
      "text/plain": [
       "24.4"
      ]
     },
     "execution_count": 47,
     "metadata": {},
     "output_type": "execute_result"
    }
   ],
   "source": [
    "web_erp['price'].median()"
   ]
  },
  {
   "cell_type": "markdown",
   "id": "976a0147",
   "metadata": {},
   "source": [
    "La moyenne du prix des vins est de 32.42 €, la mode est 45 € et la médiane est 24.4 €."
   ]
  },
  {
   "cell_type": "markdown",
   "id": "65850a6c",
   "metadata": {},
   "source": [
    "### 4. Mesures de dispersion"
   ]
  },
  {
   "cell_type": "code",
   "execution_count": 48,
   "id": "f9385c50",
   "metadata": {},
   "outputs": [
    {
     "data": {
      "text/plain": [
       "717.147210049587"
      ]
     },
     "execution_count": 48,
     "metadata": {},
     "output_type": "execute_result"
    }
   ],
   "source": [
    "web_erp['price'].var(ddof=0)"
   ]
  },
  {
   "cell_type": "code",
   "execution_count": 49,
   "id": "4bbebf52",
   "metadata": {},
   "outputs": [
    {
     "data": {
      "text/plain": [
       "26.779604366935427"
      ]
     },
     "execution_count": 49,
     "metadata": {},
     "output_type": "execute_result"
    }
   ],
   "source": [
    "web_erp['price'].std(ddof=0)"
   ]
  },
  {
   "cell_type": "markdown",
   "id": "89a772dc",
   "metadata": {},
   "source": [
    "La variance est de 717.14 et l'écart type est de 26.78 €.\n",
    "- Moyenne - écart-type : 32.42 - 26.78 = 5.64\n",
    "- Moyenne + écart-type : 32.42 + 26.78 = 59.20\n",
    "Ainsi, la plupart des vins se situent entre les prix de 5.64 € et 59.20 €."
   ]
  },
  {
   "cell_type": "markdown",
   "id": "25b7f11f",
   "metadata": {},
   "source": [
    "- Graphique boîte à moustaches :"
   ]
  },
  {
   "cell_type": "code",
   "execution_count": 76,
   "id": "a76b3e1f",
   "metadata": {},
   "outputs": [
    {
     "data": {
      "image/png": "[encoded data removed]",
      "text/plain": [
       "<Figure size 1080x504 with 1 Axes>"
      ]
     },
     "metadata": {
      "needs_background": "light"
     },
     "output_type": "display_data"
    }
   ],
   "source": [
    "plt.figure(figsize=(15,7))\n",
    "flierprops = dict(marker='o', markerfacecolor='r', markeredgecolor='g', markersize=6)\n",
    "plt.boxplot(web_erp['price'], vert=False, labels=['prix'], showmeans=True, flierprops=flierprops)\n",
    "plt.title(\"Distribution du prix des bouteilles (€)\", size=15, fontweight='bold')\n",
    "plt.show()"
   ]
  },
  {
   "cell_type": "markdown",
   "id": "29777a6e",
   "metadata": {},
   "source": [
    "On voit ici le rectangle qui est délimité par Q1 (valeur au-dessous de laquelle se trouvent 25 % des valeurs) et Q3 (valeur au-dessous de laquelle se trouvent 75 % des valeurs), avec la ligne orange à l'intérieur qui répresente la médiane et le triangle vert qui répresente la moyenne. "
   ]
  },
  {
   "cell_type": "markdown",
   "id": "19ed2b20",
   "metadata": {},
   "source": [
    "Les \"moustaches\" vont de la valeur minimale jusqu'à la valeur maximale qui ne dépasse pas 1.5*(Q3-Q1). <br /> \n",
    "Toutes les autres valeurs au-dessus, donc, sont considerées comme des outliers (possibles erreurs de frappe sur fichier)."
   ]
  },
  {
   "cell_type": "code",
   "execution_count": 51,
   "id": "609790b5",
   "metadata": {},
   "outputs": [
    {
     "name": "stdout",
     "output_type": "stream",
     "text": [
      "Q1 =  14.6 et Q3 = 42.0\n"
     ]
    }
   ],
   "source": [
    "q3, q1 = np.percentile(web_erp['price'], [75 ,25])\n",
    "print(\"Q1 = \", q1, \"et Q3 =\", q3)"
   ]
  },
  {
   "cell_type": "code",
   "execution_count": 52,
   "id": "c52a05b1",
   "metadata": {},
   "outputs": [
    {
     "name": "stdout",
     "output_type": "stream",
     "text": [
      "Ecart interquartille (Q3 - Q1) = 27.4\n"
     ]
    }
   ],
   "source": [
    "print (\"Ecart interquartille (Q3 - Q1) =\", q3-q1)"
   ]
  },
  {
   "cell_type": "markdown",
   "id": "bf3de83c",
   "metadata": {},
   "source": [
    "Pour que les valeurs ne soient pas considérées comme des outliers, elles ne doivent pas dépasser :"
   ]
  },
  {
   "cell_type": "code",
   "execution_count": 53,
   "id": "9c8beb85",
   "metadata": {},
   "outputs": [
    {
     "name": "stdout",
     "output_type": "stream",
     "text": [
      "83.1 €\n"
     ]
    }
   ],
   "source": [
    "seuil = q3 + 1.5*(q3-q1)\n",
    "print(seuil, \"€\")"
   ]
  },
  {
   "cell_type": "markdown",
   "id": "4ef65329",
   "metadata": {},
   "source": [
    "Voyons combien de bouteilles ont des prix au-dessus du seuil de 83.1 € :"
   ]
  },
  {
   "cell_type": "code",
   "execution_count": 54,
   "id": "e75771fc",
   "metadata": {},
   "outputs": [
    {
     "name": "stdout",
     "output_type": "stream",
     "text": [
      "Entre 825 bouteilles, 37 ont été enregistrée comme coûtant plus de 83.1 €, ce qui répresente 4.48 % du total de bouteilles sur le fichier.\n"
     ]
    }
   ],
   "source": [
    "x = web_erp.loc[web_erp['price']>seuil,'price'].count()\n",
    "print(\"Entre\", len(web_erp), \"bouteilles,\", x, \"ont été enregistrée comme coûtant plus de\", seuil, \"€, ce qui répresente\", round(x*100/len(web_erp),2), \"% du total de bouteilles sur le fichier.\")"
   ]
  },
  {
   "cell_type": "markdown",
   "id": "1b962dd0",
   "metadata": {},
   "source": [
    "Ainsi, nous avons 37 possibles erreurs de frappe de prix sur le fichier.  \n",
    "Liste des valeurs aberrantes :"
   ]
  },
  {
   "cell_type": "code",
   "execution_count": 55,
   "id": "d41369b5",
   "metadata": {},
   "outputs": [
    {
     "data": {
      "text/html": [
       "<div>\n",
       "<style scoped>\n",
       "    .dataframe tbody tr th:only-of-type {\n",
       "        vertical-align: middle;\n",
       "    }\n",
       "\n",
       "    .dataframe tbody tr th {\n",
       "        vertical-align: top;\n",
       "    }\n",
       "\n",
       "    .dataframe thead th {\n",
       "        text-align: right;\n",
       "    }\n",
       "</style>\n",
       "<table border=\"1\" class=\"dataframe\">\n",
       "  <thead>\n",
       "    <tr style=\"text-align: right;\">\n",
       "      <th></th>\n",
       "      <th>product_id</th>\n",
       "      <th>sku</th>\n",
       "      <th>price</th>\n",
       "    </tr>\n",
       "  </thead>\n",
       "  <tbody>\n",
       "    <tr>\n",
       "      <th>208</th>\n",
       "      <td>4352</td>\n",
       "      <td>15940.0</td>\n",
       "      <td>225.0</td>\n",
       "    </tr>\n",
       "    <tr>\n",
       "      <th>460</th>\n",
       "      <td>5001</td>\n",
       "      <td>14581.0</td>\n",
       "      <td>217.5</td>\n",
       "    </tr>\n",
       "    <tr>\n",
       "      <th>635</th>\n",
       "      <td>5892</td>\n",
       "      <td>14983.0</td>\n",
       "      <td>191.3</td>\n",
       "    </tr>\n",
       "    <tr>\n",
       "      <th>227</th>\n",
       "      <td>4402</td>\n",
       "      <td>3510.0</td>\n",
       "      <td>176.0</td>\n",
       "    </tr>\n",
       "    <tr>\n",
       "      <th>598</th>\n",
       "      <td>5767</td>\n",
       "      <td>15185.0</td>\n",
       "      <td>175.0</td>\n",
       "    </tr>\n",
       "    <tr>\n",
       "      <th>230</th>\n",
       "      <td>4406</td>\n",
       "      <td>7819.0</td>\n",
       "      <td>157.0</td>\n",
       "    </tr>\n",
       "    <tr>\n",
       "      <th>242</th>\n",
       "      <td>4594</td>\n",
       "      <td>NaN</td>\n",
       "      <td>144.0</td>\n",
       "    </tr>\n",
       "    <tr>\n",
       "      <th>411</th>\n",
       "      <td>4904</td>\n",
       "      <td>14220.0</td>\n",
       "      <td>137.0</td>\n",
       "    </tr>\n",
       "    <tr>\n",
       "      <th>697</th>\n",
       "      <td>6126</td>\n",
       "      <td>14923.0</td>\n",
       "      <td>135.0</td>\n",
       "    </tr>\n",
       "    <tr>\n",
       "      <th>210</th>\n",
       "      <td>4355</td>\n",
       "      <td>12589.0</td>\n",
       "      <td>126.5</td>\n",
       "    </tr>\n",
       "    <tr>\n",
       "      <th>556</th>\n",
       "      <td>5612</td>\n",
       "      <td>14915.0</td>\n",
       "      <td>124.8</td>\n",
       "    </tr>\n",
       "    <tr>\n",
       "      <th>651</th>\n",
       "      <td>5917</td>\n",
       "      <td>14775.0</td>\n",
       "      <td>122.0</td>\n",
       "    </tr>\n",
       "    <tr>\n",
       "      <th>712</th>\n",
       "      <td>6216</td>\n",
       "      <td>15070.0</td>\n",
       "      <td>121.0</td>\n",
       "    </tr>\n",
       "    <tr>\n",
       "      <th>709</th>\n",
       "      <td>6213</td>\n",
       "      <td>15072.0</td>\n",
       "      <td>121.0</td>\n",
       "    </tr>\n",
       "    <tr>\n",
       "      <th>703</th>\n",
       "      <td>6202</td>\n",
       "      <td>15126.0</td>\n",
       "      <td>116.4</td>\n",
       "    </tr>\n",
       "    <tr>\n",
       "      <th>711</th>\n",
       "      <td>6215</td>\n",
       "      <td>12790.0</td>\n",
       "      <td>115.0</td>\n",
       "    </tr>\n",
       "    <tr>\n",
       "      <th>708</th>\n",
       "      <td>6212</td>\n",
       "      <td>13996.0</td>\n",
       "      <td>115.0</td>\n",
       "    </tr>\n",
       "    <tr>\n",
       "      <th>652</th>\n",
       "      <td>5918</td>\n",
       "      <td>14773.0</td>\n",
       "      <td>114.0</td>\n",
       "    </tr>\n",
       "    <tr>\n",
       "      <th>475</th>\n",
       "      <td>5025</td>\n",
       "      <td>13914.0</td>\n",
       "      <td>112.0</td>\n",
       "    </tr>\n",
       "    <tr>\n",
       "      <th>240</th>\n",
       "      <td>4582</td>\n",
       "      <td>12857.0</td>\n",
       "      <td>109.6</td>\n",
       "    </tr>\n",
       "    <tr>\n",
       "      <th>228</th>\n",
       "      <td>4404</td>\n",
       "      <td>3507.0</td>\n",
       "      <td>108.5</td>\n",
       "    </tr>\n",
       "    <tr>\n",
       "      <th>702</th>\n",
       "      <td>6201</td>\n",
       "      <td>14596.0</td>\n",
       "      <td>105.6</td>\n",
       "    </tr>\n",
       "    <tr>\n",
       "      <th>466</th>\n",
       "      <td>5008</td>\n",
       "      <td>11602.0</td>\n",
       "      <td>105.0</td>\n",
       "    </tr>\n",
       "    <tr>\n",
       "      <th>465</th>\n",
       "      <td>5007</td>\n",
       "      <td>12791.0</td>\n",
       "      <td>105.0</td>\n",
       "    </tr>\n",
       "    <tr>\n",
       "      <th>231</th>\n",
       "      <td>4407</td>\n",
       "      <td>3509.0</td>\n",
       "      <td>104.0</td>\n",
       "    </tr>\n",
       "    <tr>\n",
       "      <th>410</th>\n",
       "      <td>4903</td>\n",
       "      <td>14805.0</td>\n",
       "      <td>102.3</td>\n",
       "    </tr>\n",
       "    <tr>\n",
       "      <th>66</th>\n",
       "      <td>4115</td>\n",
       "      <td>15382.0</td>\n",
       "      <td>100.0</td>\n",
       "    </tr>\n",
       "    <tr>\n",
       "      <th>710</th>\n",
       "      <td>6214</td>\n",
       "      <td>11601.0</td>\n",
       "      <td>99.0</td>\n",
       "    </tr>\n",
       "    <tr>\n",
       "      <th>650</th>\n",
       "      <td>5916</td>\n",
       "      <td>14774.0</td>\n",
       "      <td>93.0</td>\n",
       "    </tr>\n",
       "    <tr>\n",
       "      <th>545</th>\n",
       "      <td>5565</td>\n",
       "      <td>19822.0</td>\n",
       "      <td>92.0</td>\n",
       "    </tr>\n",
       "    <tr>\n",
       "      <th>724</th>\n",
       "      <td>6324</td>\n",
       "      <td>NaN</td>\n",
       "      <td>92.0</td>\n",
       "    </tr>\n",
       "    <tr>\n",
       "      <th>68</th>\n",
       "      <td>4132</td>\n",
       "      <td>11668.0</td>\n",
       "      <td>88.4</td>\n",
       "    </tr>\n",
       "    <tr>\n",
       "      <th>476</th>\n",
       "      <td>5026</td>\n",
       "      <td>13913.0</td>\n",
       "      <td>86.8</td>\n",
       "    </tr>\n",
       "    <tr>\n",
       "      <th>19</th>\n",
       "      <td>4055</td>\n",
       "      <td>NaN</td>\n",
       "      <td>86.1</td>\n",
       "    </tr>\n",
       "    <tr>\n",
       "      <th>214</th>\n",
       "      <td>4359</td>\n",
       "      <td>13853.0</td>\n",
       "      <td>85.6</td>\n",
       "    </tr>\n",
       "    <tr>\n",
       "      <th>486</th>\n",
       "      <td>5070</td>\n",
       "      <td>NaN</td>\n",
       "      <td>84.7</td>\n",
       "    </tr>\n",
       "    <tr>\n",
       "      <th>551</th>\n",
       "      <td>5580</td>\n",
       "      <td>13982.0</td>\n",
       "      <td>83.7</td>\n",
       "    </tr>\n",
       "  </tbody>\n",
       "</table>\n",
       "</div>"
      ],
      "text/plain": [
       "     product_id      sku  price\n",
       "208        4352  15940.0  225.0\n",
       "460        5001  14581.0  217.5\n",
       "635        5892  14983.0  191.3\n",
       "227        4402   3510.0  176.0\n",
       "598        5767  15185.0  175.0\n",
       "230        4406   7819.0  157.0\n",
       "242        4594      NaN  144.0\n",
       "411        4904  14220.0  137.0\n",
       "697        6126  14923.0  135.0\n",
       "210        4355  12589.0  126.5\n",
       "556        5612  14915.0  124.8\n",
       "651        5917  14775.0  122.0\n",
       "712        6216  15070.0  121.0\n",
       "709        6213  15072.0  121.0\n",
       "703        6202  15126.0  116.4\n",
       "711        6215  12790.0  115.0\n",
       "708        6212  13996.0  115.0\n",
       "652        5918  14773.0  114.0\n",
       "475        5025  13914.0  112.0\n",
       "240        4582  12857.0  109.6\n",
       "228        4404   3507.0  108.5\n",
       "702        6201  14596.0  105.6\n",
       "466        5008  11602.0  105.0\n",
       "465        5007  12791.0  105.0\n",
       "231        4407   3509.0  104.0\n",
       "410        4903  14805.0  102.3\n",
       "66         4115  15382.0  100.0\n",
       "710        6214  11601.0   99.0\n",
       "650        5916  14774.0   93.0\n",
       "545        5565  19822.0   92.0\n",
       "724        6324      NaN   92.0\n",
       "68         4132  11668.0   88.4\n",
       "476        5026  13913.0   86.8\n",
       "19         4055      NaN   86.1\n",
       "214        4359  13853.0   85.6\n",
       "486        5070      NaN   84.7\n",
       "551        5580  13982.0   83.7"
      ]
     },
     "execution_count": 55,
     "metadata": {},
     "output_type": "execute_result"
    }
   ],
   "source": [
    "outliers = web_erp.loc[web_erp['price']>seuil,:].sort_values('price',ascending=False)\n",
    "outliers[['product_id','sku','price']]"
   ]
  },
  {
   "cell_type": "markdown",
   "id": "81d8c0f2",
   "metadata": {},
   "source": [
    "Et la représentation graphique en nuage de points des valeus considerées comme normales et comme aberrantes, selon l'analyse interquartille :"
   ]
  },
  {
   "cell_type": "code",
   "execution_count": 78,
   "id": "78c4bbad",
   "metadata": {},
   "outputs": [
    {
     "data": {
      "image/png": "[encoded data removed]",
      "text/plain": [
       "<Figure size 1080x648 with 1 Axes>"
      ]
     },
     "metadata": {
      "needs_background": "light"
     },
     "output_type": "display_data"
    }
   ],
   "source": [
    "normale = web_erp.loc[web_erp['price']<seuil,:].sort_values('price',ascending=False)\n",
    "normale_index = normale.index\n",
    "outliers_index = outliers.index\n",
    "\n",
    "plt.figure(figsize=(15,9))\n",
    "plt.scatter(normale.index, normale['price'], color='green', edgecolor='black', label='Prix normal')\n",
    "plt.scatter(outliers.index, outliers['price'], color='red', edgecolor='black', label='Prix aberrant')\n",
    "ax = plt.gca()\n",
    "ax.xaxis.set_tick_params(labelbottom=False)\n",
    "plt.title(\"Prix des bouteilles(€)\", size=15, fontweight='bold')\n",
    "plt.legend()\n",
    "plt.show()"
   ]
  },
  {
   "cell_type": "markdown",
   "id": "0a5efe11",
   "metadata": {},
   "source": [
    "En termes de chiffre d'affaires :"
   ]
  },
  {
   "cell_type": "code",
   "execution_count": 57,
   "id": "29f8baa0",
   "metadata": {},
   "outputs": [
    {
     "name": "stdout",
     "output_type": "stream",
     "text": [
      "Le CA des bouteilles dont le prix est consideré comme aberrant est de 6970.0 €, soit 9.88 % du CA total.\n"
     ]
    }
   ],
   "source": [
    "ca_aberrant = CA.loc[CA['price']>seuil,'CA par produit'].sum()\n",
    "print(\"Le CA des bouteilles dont le prix est consideré comme aberrant est de\", ca_aberrant, \"€, soit\", round(ca_aberrant*100/CA['CA par produit'].sum(),2), \"% du CA total.\")"
   ]
  },
  {
   "cell_type": "markdown",
   "id": "105f8901",
   "metadata": {},
   "source": [
    "### 4. Mesures de forme"
   ]
  },
  {
   "cell_type": "markdown",
   "id": "4321bee3",
   "metadata": {},
   "source": [
    "Pour finir et avoir plus d'informations sur la distribution des prix, on calcule Skewness et Kurtosis :"
   ]
  },
  {
   "cell_type": "code",
   "execution_count": 58,
   "id": "ce8fd018",
   "metadata": {},
   "outputs": [
    {
     "data": {
      "text/plain": [
       "2.6227973685638717"
      ]
     },
     "execution_count": 58,
     "metadata": {},
     "output_type": "execute_result"
    }
   ],
   "source": [
    "web_erp['price'].skew()"
   ]
  },
  {
   "cell_type": "code",
   "execution_count": 59,
   "id": "107dc3c3",
   "metadata": {},
   "outputs": [
    {
     "data": {
      "text/plain": [
       "10.615358266001198"
      ]
     },
     "execution_count": 59,
     "metadata": {},
     "output_type": "execute_result"
    }
   ],
   "source": [
    "web_erp['price'].kurtosis()"
   ]
  },
  {
   "cell_type": "markdown",
   "id": "db1aae4c",
   "metadata": {},
   "source": [
    "Comme Skewness est positif, la distribution de la variable prix est plutôt étalée à droite (asymétrie positive). \n",
    "Le Kurtosis positif nous indique que la distribution est moins aplatie que la distribution gaussienne (observations plus concentrées)."
   ]
  }
 ],
 "metadata": {
  "kernelspec": {
   "display_name": "Python 3 (ipykernel)",
   "language": "python",
   "name": "python3"
  },
  "language_info": {
   "codemirror_mode": {
    "name": "ipython",
    "version": 3
   },
   "file_extension": ".py",
   "mimetype": "text/x-python",
   "name": "python",
   "nbconvert_exporter": "python",
   "pygments_lexer": "ipython3",
   "version": "3.9.12"
  }
 },
 "nbformat": 4,
 "nbformat_minor": 5
}
